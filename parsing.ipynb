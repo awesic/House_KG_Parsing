{
 "cells": [
  {
   "cell_type": "code",
   "execution_count": 16,
   "metadata": {},
   "outputs": [],
   "source": [
    "import requests\n",
    "from bs4 import BeautifulSoup\n",
    "import pandas as pd\n",
    "import numpy as np\n",
    "from tqdm import tqdm # pip install tqdm\n",
    "import time\n",
    "import os\n",
    "\n",
    "MAIN_URL = 'https://www.house.kg/kupit-kvartiru'"
   ]
  },
  {
   "cell_type": "code",
   "execution_count": 29,
   "metadata": {},
   "outputs": [],
   "source": [
    "def get_max_pages(url:str)->int:\n",
    "    \"Getting the number of the last page\"\n",
    "    \n",
    "    response = requests.get(url)\n",
    "    soup = BeautifulSoup(response.text, 'html.parser')\n",
    "    obj = soup.find(\"div\", class_=\"listings-wrapper\")\n",
    "    return int(obj.find('nav').find_all('li')[-1].find('a')['data-page'])"
   ]
  },
  {
   "cell_type": "code",
   "execution_count": 126,
   "metadata": {},
   "outputs": [],
   "source": [
    "def get_url()->None:\n",
    "  \"Loading URLS of each House and saving as file\"\n",
    "  print('___ LOAD URLS ___')\n",
    "\n",
    "  sub_url = []\n",
    "  pages = input('How many pages do you want? (For all pages leave blank) ')\n",
    "  \n",
    "  if pages == '':\n",
    "    pages = get_max_pages(MAIN_URL)\n",
    "  else:\n",
    "    pages = int(pages)\n",
    "    \n",
    "  for page in tqdm(range(1, pages+1)):\n",
    "    url = f'{MAIN_URL}?page={page}'\n",
    "    response = requests.get(url)\n",
    "    soup = BeautifulSoup(response.text, \"html.parser\")\n",
    "    objects = soup.find(\"div\", class_=\"listings-wrapper\")\n",
    "    lincs = objects.find_all('div', class_=\"left-image\")\n",
    "    for ur in lincs:\n",
    "      sub_url.append(ur.find('a')['href'])\n",
    "\n",
    "  print(f'\\n ___ Received {len(sub_url)} URLS ___')\n",
    "\n",
    "  urls = []\n",
    "  for i in sub_url:\n",
    "    urls.append(f\"https://www.house.kg{i}\")\n",
    "\n",
    "  pd.DataFrame(urls, columns=['URLS']).to_csv('urls.csv', index=False)\n",
    "  print('\\nFILE \"urls.csv\" SAVED')"
   ]
  },
  {
   "cell_type": "code",
   "execution_count": 116,
   "metadata": {},
   "outputs": [
    {
     "name": "stdout",
     "output_type": "stream",
     "text": [
      "___ LOAD URLS ___\n"
     ]
    },
    {
     "name": "stderr",
     "output_type": "stream",
     "text": [
      "100%|██████████| 649/649 [21:39<00:00,  2.00s/it]  "
     ]
    },
    {
     "name": "stdout",
     "output_type": "stream",
     "text": [
      "\n",
      " ___ Received 6481 URLS ___\n",
      "\n",
      "FILE \"urls.csv\" SAVED\n"
     ]
    },
    {
     "name": "stderr",
     "output_type": "stream",
     "text": [
      "\n"
     ]
    }
   ],
   "source": [
    "get_url()"
   ]
  },
  {
   "cell_type": "code",
   "execution_count": 24,
   "metadata": {},
   "outputs": [],
   "source": [
    "import datetime\n",
    "current_date = datetime.date.today()"
   ]
  },
  {
   "cell_type": "code",
   "execution_count": 176,
   "metadata": {},
   "outputs": [],
   "source": [
    "def get_data(ur:str)->dict:\n",
    "  \n",
    "  response = requests.get(ur)\n",
    "  soup = BeautifulSoup(response.text, \"html.parser\")\n",
    "  main_content = soup.find('div', class_='main-content')\n",
    "  header = main_content.find('div', class_='details-header')\n",
    "  user_info = main_content.find('div', class_='phone-fixable-block')\n",
    "  main_details = main_content.find('div', class_='details-main')\n",
    "  atributs = main_details.find_all(\"div\", class_=\"info-row\")\n",
    "  \n",
    "  USD_price = header.find(\"div\", class_=\"price-dollar\").text.strip().replace(' ', '').replace('$', '')\n",
    "  kgs_price  = header.find(\"div\", class_=\"price-som\").text.strip().replace(' ', '').replace('сом', '')\n",
    "  \n",
    "  address = header.find(\"i\", class_=\"fas fa-map-marker-alt\")\n",
    "  number = user_info.find('div', class_='number')\n",
    "  map_attr = main_details.find('div', id='map2gis')\n",
    "  latitude = map_attr['data-lat']\n",
    "  longitude = map_attr['data-lon']\n",
    "  n_rooms = header.find(\"div\", class_=\"left\").text.strip().split('\\n')[0]\n",
    "  \n",
    "  describe = main_details.find(\"div\", class_=\"description\")\n",
    "  added = header.find('span', class_ ='added-span')\n",
    "  upped = header.find('span', class_ ='upped-span')\n",
    "  rating = user_info.find('div', class_ ='rating score')\n",
    "  views = header.find('span', class_ ='view-count')\n",
    "  atr_dict = {\n",
    "    'url': ur,\n",
    "  }\n",
    "  \n",
    "  for atr in atributs:\n",
    "    key = atr.find('div', class_=\"label\").text.strip().replace('\\n', ' ')\n",
    "    val = atr.find('div', class_=\"info\").text.strip().replace('\\n', ' ')\n",
    "    atr_dict[key] = val\n",
    "    \n",
    "  try:\n",
    "    atr_dict['address'] = address.next_sibling.strip()\n",
    "    atr_dict['n_rooms'] = n_rooms\n",
    "  except Exception:\n",
    "    atr_dict['adress'] = np.nan\n",
    "  try:\n",
    "    atr_dict['describe'] = describe.find('p').text.strip().replace('\\n', ' ')\n",
    "  except Exception:\n",
    "    atr_dict['describe'] = np.nan\n",
    "  try:\n",
    "    atr_dict['added'] = added.text\n",
    "    atr_dict['upped'] = upped.text\n",
    "  except Exception:\n",
    "    atr_dict['added'] = np.nan\n",
    "    atr_dict['upped'] = np.nan\n",
    "  try:\n",
    "    atr_dict['latitude'] = float(latitude)\n",
    "    atr_dict['longitude'] = float(longitude)\n",
    "  except Exception:\n",
    "    atr_dict['latitude'] = np.nan\n",
    "    atr_dict['longitude'] = np.nan\n",
    "  try:\n",
    "    atr_dict['rating'] = rating.text.strip()\n",
    "  except Exception:\n",
    "    atr_dict['rating'] = np.nan\n",
    "    \n",
    "  atr_dict['views'] = int(views.text)\n",
    "  atr_dict['phone_number'] = number.text\n",
    "  atr_dict['USD_price'] = USD_price\n",
    "  atr_dict['KGS_price '] = kgs_price\n",
    "  atr_dict['current_date '] = current_date\n",
    "\n",
    "  try: \n",
    "    hearts = header.find('span', class_ ='favourite-count table-comments').text\n",
    "    atr_dict['hearts'] = hearts.split(';')[1]\n",
    "  except Exception:\n",
    "    atr_dict['hearts'] = np.nan\n",
    "\n",
    "  return atr_dict"
   ]
  },
  {
   "cell_type": "code",
   "execution_count": 175,
   "metadata": {},
   "outputs": [
    {
     "data": {
      "text/plain": [
       "('Добавлено 9 часов назад', ' Поднято 8 часов назад')"
      ]
     },
     "execution_count": 175,
     "metadata": {},
     "output_type": "execute_result"
    }
   ],
   "source": [
    "response = requests.get('https://www.house.kg/details/521743066ec024c57fe40-61109241')\n",
    "soup = BeautifulSoup(response.text, \"html.parser\")\n",
    "\n",
    "# main_details = soup.find('div', class_='details-main').find('div', class_='right')\n",
    "# rating = main_details.find('div', class_='fotorama').find_all('a')\n",
    "\n",
    "# img_list = []\n",
    "# for a in rating:\n",
    "#     img_list.append(a['href'])\n",
    "    \n",
    "# img_list"
   ]
  },
  {
   "cell_type": "code",
   "execution_count": 165,
   "metadata": {},
   "outputs": [],
   "source": [
    "data = []\n",
    "error_urls = []"
   ]
  },
  {
   "cell_type": "code",
   "execution_count": 179,
   "metadata": {},
   "outputs": [
    {
     "name": "stderr",
     "output_type": "stream",
     "text": [
      "  0%|          | 0/6556 [00:00<?, ?it/s]"
     ]
    },
    {
     "name": "stderr",
     "output_type": "stream",
     "text": [
      "  1%|          | 43/6556 [00:47<2:26:59,  1.35s/it]"
     ]
    },
    {
     "name": "stdout",
     "output_type": "stream",
     "text": [
      "!!!___ERRROR___!!!\n",
      "With url index: 42\n",
      "With url: https://www.house.kg/details/728676766ebf0a9b33b32-88503514\n"
     ]
    },
    {
     "name": "stderr",
     "output_type": "stream",
     "text": [
      "  1%|          | 44/6556 [00:49<2:28:26,  1.37s/it]"
     ]
    },
    {
     "name": "stdout",
     "output_type": "stream",
     "text": [
      "!!!___ERRROR___!!!\n",
      "With url index: 43\n",
      "With url: https://www.house.kg/details/332924866ebf090d3d332-26535346\n"
     ]
    },
    {
     "name": "stderr",
     "output_type": "stream",
     "text": [
      "  1%|          | 47/6556 [00:52<2:24:13,  1.33s/it]"
     ]
    },
    {
     "name": "stdout",
     "output_type": "stream",
     "text": [
      "!!!___ERRROR___!!!\n",
      "With url index: 46\n",
      "With url: https://www.house.kg/details/808322866ebefc4efdc31-25012237\n"
     ]
    },
    {
     "name": "stderr",
     "output_type": "stream",
     "text": [
      "  1%|          | 49/6556 [00:55<2:18:06,  1.27s/it]"
     ]
    },
    {
     "name": "stdout",
     "output_type": "stream",
     "text": [
      "!!!___ERRROR___!!!\n",
      "With url index: 48\n",
      "With url: https://www.house.kg/details/94390666ebef7b451b01-27638521\n"
     ]
    },
    {
     "name": "stderr",
     "output_type": "stream",
     "text": [
      "  8%|▊         | 529/6556 [11:14<1:32:26,  1.09it/s]"
     ]
    },
    {
     "name": "stdout",
     "output_type": "stream",
     "text": [
      "!!!___ERRROR___!!!\n",
      "With url index: 528\n",
      "With url: https://www.house.kg/details/11793766712122baa432-41669720\n"
     ]
    },
    {
     "name": "stderr",
     "output_type": "stream",
     "text": [
      "  8%|▊         | 530/6556 [11:15<1:28:51,  1.13it/s]"
     ]
    },
    {
     "name": "stdout",
     "output_type": "stream",
     "text": [
      "!!!___ERRROR___!!!\n",
      "With url index: 529\n",
      "With url: https://www.house.kg/details/33825776666d92c911966-84995485\n"
     ]
    },
    {
     "name": "stderr",
     "output_type": "stream",
     "text": [
      " 12%|█▏        | 756/6556 [16:28<2:27:27,  1.53s/it]"
     ]
    },
    {
     "name": "stdout",
     "output_type": "stream",
     "text": [
      "!!!___ERRROR___!!!\n",
      "With url index: 755\n",
      "With url: https://www.house.kg/details/7371691667d35d8d65300-74710401\n"
     ]
    },
    {
     "name": "stderr",
     "output_type": "stream",
     "text": [
      " 16%|█▌        | 1065/6556 [23:28<1:56:57,  1.28s/it]"
     ]
    },
    {
     "name": "stdout",
     "output_type": "stream",
     "text": [
      "!!!___ERRROR___!!!\n",
      "With url index: 1064\n",
      "With url: https://www.house.kg/details/228853666d14e9408da33-34060723\n"
     ]
    },
    {
     "name": "stderr",
     "output_type": "stream",
     "text": [
      " 16%|█▋        | 1068/6556 [23:32<2:05:39,  1.37s/it]"
     ]
    },
    {
     "name": "stdout",
     "output_type": "stream",
     "text": [
      "!!!___ERRROR___!!!\n",
      "With url index: 1067\n",
      "With url: https://www.house.kg/details/795115466b9da433331a4-11232614\n"
     ]
    },
    {
     "name": "stderr",
     "output_type": "stream",
     "text": [
      " 16%|█▋        | 1073/6556 [23:39<2:14:31,  1.47s/it]"
     ]
    },
    {
     "name": "stdout",
     "output_type": "stream",
     "text": [
      "!!!___ERRROR___!!!\n",
      "With url index: 1072\n",
      "With url: https://www.house.kg/details/20455366e29bc31c23f8-43079706\n"
     ]
    },
    {
     "name": "stderr",
     "output_type": "stream",
     "text": [
      " 16%|█▋        | 1075/6556 [23:43<2:41:57,  1.77s/it]"
     ]
    },
    {
     "name": "stdout",
     "output_type": "stream",
     "text": [
      "!!!___ERRROR___!!!\n",
      "With url index: 1074\n",
      "With url: https://www.house.kg/details/768338866e56c46d68201-22799425\n"
     ]
    },
    {
     "name": "stderr",
     "output_type": "stream",
     "text": [
      " 20%|██        | 1322/6556 [28:56<1:55:32,  1.32s/it]"
     ]
    },
    {
     "name": "stdout",
     "output_type": "stream",
     "text": [
      "!!!___ERRROR___!!!\n",
      "With url index: 1321\n",
      "With url: https://www.house.kg/details/84181066d179613bb6a6-35904182\n"
     ]
    },
    {
     "name": "stderr",
     "output_type": "stream",
     "text": [
      " 34%|███▍      | 2238/6556 [49:19<1:43:13,  1.43s/it]"
     ]
    },
    {
     "name": "stdout",
     "output_type": "stream",
     "text": [
      "!!!___ERRROR___!!!\n",
      "With url index: 2237\n",
      "With url: https://www.house.kg/details/120677065e1f54d3ffce1-05367546\n"
     ]
    },
    {
     "name": "stderr",
     "output_type": "stream",
     "text": [
      " 41%|████▏     | 2715/6556 [1:03:53<1:27:56,  1.37s/it]"
     ]
    },
    {
     "name": "stdout",
     "output_type": "stream",
     "text": [
      "!!!___ERRROR___!!!\n",
      "With url index: 2714\n",
      "With url: https://www.house.kg/details/333788066cacc4581bcf5-21878537\n"
     ]
    },
    {
     "name": "stderr",
     "output_type": "stream",
     "text": [
      " 43%|████▎     | 2800/6556 [1:05:51<1:21:51,  1.31s/it]"
     ]
    },
    {
     "name": "stdout",
     "output_type": "stream",
     "text": [
      "!!!___ERRROR___!!!\n",
      "With url index: 2799\n",
      "With url: https://www.house.kg/details/190423266cc5df0557280-73522850\n"
     ]
    },
    {
     "name": "stderr",
     "output_type": "stream",
     "text": [
      " 44%|████▎     | 2863/6556 [1:07:15<1:25:57,  1.40s/it]"
     ]
    },
    {
     "name": "stdout",
     "output_type": "stream",
     "text": [
      "!!!___ERRROR___!!!\n",
      "With url index: 2862\n",
      "With url: https://www.house.kg/details/374138166dab9a8baf611-55528603\n"
     ]
    },
    {
     "name": "stderr",
     "output_type": "stream",
     "text": [
      " 58%|█████▊    | 3827/6556 [1:30:17<1:07:44,  1.49s/it] "
     ]
    },
    {
     "name": "stdout",
     "output_type": "stream",
     "text": [
      "!!!___ERRROR___!!!\n",
      "With url index: 3826\n",
      "With url: https://www.house.kg/details/858240566263393bb0e14-28951104\n"
     ]
    },
    {
     "name": "stderr",
     "output_type": "stream",
     "text": [
      " 59%|█████▉    | 3859/6556 [1:30:50<40:53,  1.10it/s]  "
     ]
    },
    {
     "name": "stdout",
     "output_type": "stream",
     "text": [
      "!!!___ERRROR___!!!\n",
      "With url index: 3858\n",
      "With url: https://www.house.kg/details/206847669f37c3212919-94226138\n"
     ]
    },
    {
     "name": "stderr",
     "output_type": "stream",
     "text": [
      " 61%|██████▏   | 4027/6556 [1:34:37<58:04,  1.38s/it]  "
     ]
    },
    {
     "name": "stdout",
     "output_type": "stream",
     "text": [
      "!!!___ERRROR___!!!\n",
      "With url index: 4026\n",
      "With url: https://www.house.kg/details/684261566eac5ce501e26-50333778\n"
     ]
    },
    {
     "name": "stderr",
     "output_type": "stream",
     "text": [
      " 63%|██████▎   | 4148/6556 [1:37:26<58:07,  1.45s/it]  "
     ]
    },
    {
     "name": "stdout",
     "output_type": "stream",
     "text": [
      "!!!___ERRROR___!!!\n",
      "With url index: 4147\n",
      "With url: https://www.house.kg/details/661483766db02c469a716-00536687\n"
     ]
    },
    {
     "name": "stderr",
     "output_type": "stream",
     "text": [
      " 65%|██████▍   | 4233/6556 [1:39:17<33:26,  1.16it/s]  "
     ]
    },
    {
     "name": "stdout",
     "output_type": "stream",
     "text": [
      "!!!___ERRROR___!!!\n",
      "With url index: 4232\n",
      "With url: https://www.house.kg/details/781304866cc67ad1676c2-86016910\n"
     ]
    },
    {
     "name": "stderr",
     "output_type": "stream",
     "text": [
      " 72%|███████▏  | 4704/6556 [1:49:05<33:57,  1.10s/it]  "
     ]
    },
    {
     "name": "stdout",
     "output_type": "stream",
     "text": [
      "!!!___ERRROR___!!!\n",
      "With url index: 4703\n",
      "With url: https://www.house.kg/details/618560566ea8a817f0e43-28198126\n"
     ]
    },
    {
     "name": "stderr",
     "output_type": "stream",
     "text": [
      " 72%|███████▏  | 4732/6556 [1:49:37<29:57,  1.01it/s]"
     ]
    },
    {
     "name": "stdout",
     "output_type": "stream",
     "text": [
      "!!!___ERRROR___!!!\n",
      "With url index: 4731\n",
      "With url: https://www.house.kg/details/378124667b7dddbf5b41-27142435\n"
     ]
    },
    {
     "name": "stderr",
     "output_type": "stream",
     "text": [
      " 75%|███████▌  | 4917/6556 [1:52:52<26:46,  1.02it/s]"
     ]
    },
    {
     "name": "stdout",
     "output_type": "stream",
     "text": [
      "!!!___ERRROR___!!!\n",
      "With url index: 4916\n",
      "With url: https://www.house.kg/details/602323066ab50041af2e7-58375847\n"
     ]
    },
    {
     "name": "stderr",
     "output_type": "stream",
     "text": [
      " 77%|███████▋  | 5073/6556 [1:55:41<22:12,  1.11it/s]"
     ]
    },
    {
     "name": "stdout",
     "output_type": "stream",
     "text": [
      "!!!___ERRROR___!!!\n",
      "With url index: 5072\n",
      "With url: https://www.house.kg/details/782445667f90905fc827-97766744\n"
     ]
    },
    {
     "name": "stderr",
     "output_type": "stream",
     "text": [
      " 77%|███████▋  | 5074/6556 [1:55:42<21:39,  1.14it/s]"
     ]
    },
    {
     "name": "stdout",
     "output_type": "stream",
     "text": [
      "!!!___ERRROR___!!!\n",
      "With url index: 5073\n",
      "With url: https://www.house.kg/details/3305137667f8f61f25e18-79391688\n"
     ]
    },
    {
     "name": "stderr",
     "output_type": "stream",
     "text": [
      " 79%|███████▉  | 5195/6556 [1:57:50<24:43,  1.09s/it]"
     ]
    },
    {
     "name": "stdout",
     "output_type": "stream",
     "text": [
      "!!!___ERRROR___!!!\n",
      "With url index: 5194\n",
      "With url: https://www.house.kg/details/37264066e27a995115f5-16758366\n"
     ]
    },
    {
     "name": "stderr",
     "output_type": "stream",
     "text": [
      " 81%|████████  | 5308/6556 [1:59:54<22:47,  1.10s/it]"
     ]
    },
    {
     "name": "stdout",
     "output_type": "stream",
     "text": [
      "!!!___ERRROR___!!!\n",
      "With url index: 5307\n",
      "With url: https://www.house.kg/details/737094566e190a23fe0a1-55891839\n"
     ]
    },
    {
     "name": "stderr",
     "output_type": "stream",
     "text": [
      " 81%|████████  | 5323/6556 [2:00:12<26:51,  1.31s/it]"
     ]
    },
    {
     "name": "stdout",
     "output_type": "stream",
     "text": [
      "!!!___ERRROR___!!!\n",
      "With url index: 5322\n",
      "With url: https://www.house.kg/details/717308966e16565b4bb62-46877938\n"
     ]
    },
    {
     "name": "stderr",
     "output_type": "stream",
     "text": [
      " 82%|████████▏ | 5344/6556 [2:00:36<20:48,  1.03s/it]"
     ]
    },
    {
     "name": "stdout",
     "output_type": "stream",
     "text": [
      "!!!___ERRROR___!!!\n",
      "With url index: 5343\n",
      "With url: https://www.house.kg\n"
     ]
    },
    {
     "name": "stderr",
     "output_type": "stream",
     "text": [
      " 82%|████████▏ | 5364/6556 [2:00:56<18:33,  1.07it/s]"
     ]
    },
    {
     "name": "stdout",
     "output_type": "stream",
     "text": [
      "!!!___ERRROR___!!!\n",
      "With url index: 5363\n",
      "With url: https://www.house.kg/details/596610266e06696d2b982-63282275\n"
     ]
    },
    {
     "name": "stderr",
     "output_type": "stream",
     "text": [
      " 82%|████████▏ | 5368/6556 [2:00:59<17:04,  1.16it/s]"
     ]
    },
    {
     "name": "stdout",
     "output_type": "stream",
     "text": [
      "!!!___ERRROR___!!!\n",
      "With url index: 5367\n",
      "With url: https://www.house.kg/details/647885669e0e94b74545-07246914\n"
     ]
    },
    {
     "name": "stderr",
     "output_type": "stream",
     "text": [
      " 82%|████████▏ | 5379/6556 [2:01:09<17:44,  1.11it/s]"
     ]
    },
    {
     "name": "stdout",
     "output_type": "stream",
     "text": [
      "!!!___ERRROR___!!!\n",
      "With url index: 5378\n",
      "With url: https://www.house.kg/details/759897166e00499bc52c3-92531933\n"
     ]
    },
    {
     "name": "stderr",
     "output_type": "stream",
     "text": [
      " 82%|████████▏ | 5388/6556 [2:01:17<16:54,  1.15it/s]"
     ]
    },
    {
     "name": "stdout",
     "output_type": "stream",
     "text": [
      "!!!___ERRROR___!!!\n",
      "With url index: 5387\n",
      "With url: https://www.house.kg/details/984586064c9d0fbbf1788-62974933\n"
     ]
    },
    {
     "name": "stderr",
     "output_type": "stream",
     "text": [
      " 84%|████████▍ | 5495/6556 [2:03:17<18:19,  1.04s/it]"
     ]
    },
    {
     "name": "stdout",
     "output_type": "stream",
     "text": [
      "!!!___ERRROR___!!!\n",
      "With url index: 5494\n",
      "With url: https://www.house.kg/details/183637966dabd7df34b93-11197994\n"
     ]
    },
    {
     "name": "stderr",
     "output_type": "stream",
     "text": [
      " 85%|████████▍ | 5570/6556 [2:04:31<19:06,  1.16s/it]"
     ]
    },
    {
     "name": "stdout",
     "output_type": "stream",
     "text": [
      "!!!___ERRROR___!!!\n",
      "With url index: 5569\n",
      "With url: https://www.house.kg/details/680183466d85fff3a71a8-44539857\n"
     ]
    },
    {
     "name": "stderr",
     "output_type": "stream",
     "text": [
      " 87%|████████▋ | 5679/6556 [2:06:27<13:32,  1.08it/s]"
     ]
    },
    {
     "name": "stdout",
     "output_type": "stream",
     "text": [
      "!!!___ERRROR___!!!\n",
      "With url index: 5678\n",
      "With url: https://www.house.kg/details/1239472664ce9372a63d1-99297086\n"
     ]
    },
    {
     "name": "stderr",
     "output_type": "stream",
     "text": [
      " 87%|████████▋ | 5705/6556 [2:06:50<11:53,  1.19it/s]"
     ]
    },
    {
     "name": "stdout",
     "output_type": "stream",
     "text": [
      "!!!___ERRROR___!!!\n",
      "With url index: 5704\n",
      "With url: https://www.house.kg/details/50909466ce37255c7e75-97743998\n"
     ]
    },
    {
     "name": "stderr",
     "output_type": "stream",
     "text": [
      " 87%|████████▋ | 5707/6556 [2:06:52<12:15,  1.15it/s]"
     ]
    },
    {
     "name": "stdout",
     "output_type": "stream",
     "text": [
      "!!!___ERRROR___!!!\n",
      "With url index: 5706\n",
      "With url: https://www.house.kg/details/629391966b364ee1da490-46033580\n"
     ]
    },
    {
     "name": "stderr",
     "output_type": "stream",
     "text": [
      " 88%|████████▊ | 5752/6556 [2:07:40<16:48,  1.25s/it]"
     ]
    },
    {
     "name": "stdout",
     "output_type": "stream",
     "text": [
      "!!!___ERRROR___!!!\n",
      "With url index: 5751\n",
      "With url: https://www.house.kg/details/266733666d3e58e45f802-39598291\n"
     ]
    },
    {
     "name": "stderr",
     "output_type": "stream",
     "text": [
      " 88%|████████▊ | 5753/6556 [2:07:41<17:58,  1.34s/it]"
     ]
    },
    {
     "name": "stdout",
     "output_type": "stream",
     "text": [
      "!!!___ERRROR___!!!\n",
      "With url index: 5752\n",
      "With url: https://www.house.kg/details/691930466d3e3734b8930-16376554\n"
     ]
    },
    {
     "name": "stderr",
     "output_type": "stream",
     "text": [
      " 88%|████████▊ | 5787/6556 [2:08:17<12:22,  1.04it/s]"
     ]
    },
    {
     "name": "stdout",
     "output_type": "stream",
     "text": [
      "!!!___ERRROR___!!!\n",
      "With url index: 5786\n",
      "With url: https://www.house.kg/details/579719566c83462a56184-83990530\n"
     ]
    },
    {
     "name": "stderr",
     "output_type": "stream",
     "text": [
      " 90%|████████▉ | 5870/6556 [2:09:40<12:25,  1.09s/it]"
     ]
    },
    {
     "name": "stdout",
     "output_type": "stream",
     "text": [
      "!!!___ERRROR___!!!\n",
      "With url index: 5869\n",
      "With url: https://www.house.kg/details/381389065f0b56a6fe814-70415649\n"
     ]
    },
    {
     "name": "stderr",
     "output_type": "stream",
     "text": [
      " 90%|████████▉ | 5875/6556 [2:09:46<13:10,  1.16s/it]"
     ]
    },
    {
     "name": "stdout",
     "output_type": "stream",
     "text": [
      "!!!___ERRROR___!!!\n",
      "With url index: 5874\n",
      "With url: https://www.house.kg/details/7152268669794495ba3e6-20305317\n"
     ]
    },
    {
     "name": "stderr",
     "output_type": "stream",
     "text": [
      " 91%|█████████ | 5977/6556 [2:11:39<11:30,  1.19s/it]"
     ]
    },
    {
     "name": "stdout",
     "output_type": "stream",
     "text": [
      "!!!___ERRROR___!!!\n",
      "With url index: 5976\n",
      "With url: https://www.house.kg/details/260698466c5a42de797b7-90478381\n"
     ]
    },
    {
     "name": "stderr",
     "output_type": "stream",
     "text": [
      " 92%|█████████▏| 6012/6556 [2:12:10<07:56,  1.14it/s]"
     ]
    },
    {
     "name": "stdout",
     "output_type": "stream",
     "text": [
      "!!!___ERRROR___!!!\n",
      "With url index: 6011\n",
      "With url: https://www.house.kg/details/153017466c5d859c61836-08478375\n"
     ]
    },
    {
     "name": "stderr",
     "output_type": "stream",
     "text": [
      " 92%|█████████▏| 6043/6556 [2:12:40<07:51,  1.09it/s]"
     ]
    },
    {
     "name": "stdout",
     "output_type": "stream",
     "text": [
      "!!!___ERRROR___!!!\n",
      "With url index: 6042\n",
      "With url: https://www.house.kg/details/949267566c444f0351116-31952048\n"
     ]
    },
    {
     "name": "stderr",
     "output_type": "stream",
     "text": [
      " 94%|█████████▎| 6140/6556 [2:14:25<07:55,  1.14s/it]"
     ]
    },
    {
     "name": "stdout",
     "output_type": "stream",
     "text": [
      "!!!___ERRROR___!!!\n",
      "With url index: 5343\n",
      "With url: https://www.house.kg\n"
     ]
    },
    {
     "name": "stderr",
     "output_type": "stream",
     "text": [
      " 94%|█████████▎| 6141/6556 [2:14:26<07:28,  1.08s/it]"
     ]
    },
    {
     "name": "stdout",
     "output_type": "stream",
     "text": [
      "!!!___ERRROR___!!!\n",
      "With url index: 5343\n",
      "With url: https://www.house.kg\n"
     ]
    },
    {
     "name": "stderr",
     "output_type": "stream",
     "text": [
      " 95%|█████████▌| 6253/6556 [2:16:22<05:58,  1.18s/it]"
     ]
    },
    {
     "name": "stdout",
     "output_type": "stream",
     "text": [
      "!!!___ERRROR___!!!\n",
      "With url index: 6252\n",
      "With url: https://www.house.kg/details/12662466b3b2410f7847-89023704\n"
     ]
    },
    {
     "name": "stderr",
     "output_type": "stream",
     "text": [
      " 96%|█████████▌| 6277/6556 [2:16:50<04:28,  1.04it/s]"
     ]
    },
    {
     "name": "stdout",
     "output_type": "stream",
     "text": [
      "!!!___ERRROR___!!!\n",
      "With url index: 6276\n",
      "With url: https://www.house.kg/details/88505266b2f60d48e3a1-38960698\n"
     ]
    },
    {
     "name": "stderr",
     "output_type": "stream",
     "text": [
      " 98%|█████████▊| 6442/6556 [2:19:48<02:13,  1.17s/it]"
     ]
    },
    {
     "name": "stdout",
     "output_type": "stream",
     "text": [
      "!!!___ERRROR___!!!\n",
      "With url index: 6441\n",
      "With url: https://www.house.kg/details/195967566a4935d7af6c7-66812990\n"
     ]
    },
    {
     "name": "stderr",
     "output_type": "stream",
     "text": [
      "100%|██████████| 6556/6556 [2:25:25<00:00,  1.33s/it]\n"
     ]
    }
   ],
   "source": [
    "urls = pd.read_csv('urls.csv').URLS.to_list()\n",
    "\n",
    "for url in tqdm(urls):\n",
    "    try:\n",
    "        data.append(get_data(url))\n",
    "    except Exception:\n",
    "        url_index = urls.index(url)\n",
    "        print('!!!___ERRROR___!!!')\n",
    "        print(f'With url index: {url_index}')\n",
    "        print(f'With url: {url}')\n",
    "        error_urls.append(url)\n",
    "        \n",
    "pd.DataFrame(data).to_csv('data_last.csv', index=False)\n",
    "pd.DataFrame(error_urls).to_csv('error_urls_last.csv', index=False)"
   ]
  },
  {
   "cell_type": "code",
   "execution_count": 180,
   "metadata": {},
   "outputs": [],
   "source": [
    "data = pd.DataFrame(data)"
   ]
  },
  {
   "cell_type": "code",
   "execution_count": 181,
   "metadata": {},
   "outputs": [
    {
     "data": {
      "text/html": [
       "<div>\n",
       "<style scoped>\n",
       "    .dataframe tbody tr th:only-of-type {\n",
       "        vertical-align: middle;\n",
       "    }\n",
       "\n",
       "    .dataframe tbody tr th {\n",
       "        vertical-align: top;\n",
       "    }\n",
       "\n",
       "    .dataframe thead th {\n",
       "        text-align: right;\n",
       "    }\n",
       "</style>\n",
       "<table border=\"1\" class=\"dataframe\">\n",
       "  <thead>\n",
       "    <tr style=\"text-align: right;\">\n",
       "      <th></th>\n",
       "      <th>url</th>\n",
       "      <th>Тип предложения</th>\n",
       "      <th>Серия</th>\n",
       "      <th>Дом</th>\n",
       "      <th>Этаж</th>\n",
       "      <th>Площадь</th>\n",
       "      <th>Отопление</th>\n",
       "      <th>Состояние</th>\n",
       "      <th>Телефон</th>\n",
       "      <th>Санузел</th>\n",
       "      <th>...</th>\n",
       "      <th>current_date</th>\n",
       "      <th>hearts</th>\n",
       "      <th>Интернет</th>\n",
       "      <th>Безопасность</th>\n",
       "      <th>Возможность рассрочки</th>\n",
       "      <th>Возможность обмена</th>\n",
       "      <th>Площадь участка</th>\n",
       "      <th>Канализация</th>\n",
       "      <th>Питьевая вода</th>\n",
       "      <th>Электричество</th>\n",
       "    </tr>\n",
       "  </thead>\n",
       "  <tbody>\n",
       "    <tr>\n",
       "      <th>0</th>\n",
       "      <td>https://www.house.kg/details/515492365e7189104...</td>\n",
       "      <td>от собственника</td>\n",
       "      <td>индивид. планировка</td>\n",
       "      <td>кирпичный, 2024 г.</td>\n",
       "      <td>1 этаж из 3</td>\n",
       "      <td>35 м2</td>\n",
       "      <td>электрическое</td>\n",
       "      <td>хорошее</td>\n",
       "      <td>возможно подключение</td>\n",
       "      <td>совмещенный</td>\n",
       "      <td>...</td>\n",
       "      <td>2024-09-18</td>\n",
       "      <td>NaN</td>\n",
       "      <td>NaN</td>\n",
       "      <td>NaN</td>\n",
       "      <td>NaN</td>\n",
       "      <td>NaN</td>\n",
       "      <td>NaN</td>\n",
       "      <td>NaN</td>\n",
       "      <td>NaN</td>\n",
       "      <td>NaN</td>\n",
       "    </tr>\n",
       "    <tr>\n",
       "      <th>1</th>\n",
       "      <td>https://www.house.kg/details/932931666cc8a829e...</td>\n",
       "      <td>от собственника</td>\n",
       "      <td>элитка</td>\n",
       "      <td>монолитный, 2022 г.</td>\n",
       "      <td>12 этаж из 15</td>\n",
       "      <td>64 м2</td>\n",
       "      <td>на газе</td>\n",
       "      <td>евроремонт</td>\n",
       "      <td>NaN</td>\n",
       "      <td>2 с/у и более</td>\n",
       "      <td>...</td>\n",
       "      <td>2024-09-18</td>\n",
       "      <td>NaN</td>\n",
       "      <td>NaN</td>\n",
       "      <td>NaN</td>\n",
       "      <td>NaN</td>\n",
       "      <td>NaN</td>\n",
       "      <td>NaN</td>\n",
       "      <td>NaN</td>\n",
       "      <td>NaN</td>\n",
       "      <td>NaN</td>\n",
       "    </tr>\n",
       "    <tr>\n",
       "      <th>2</th>\n",
       "      <td>https://www.house.kg/details/266187266e0264c64...</td>\n",
       "      <td>от собственника</td>\n",
       "      <td>индивид. планировка</td>\n",
       "      <td>кирпичный, 2021 г.</td>\n",
       "      <td>4 этаж из 4</td>\n",
       "      <td>39 м2, жилая: 13 м2, кухня: 17 м2</td>\n",
       "      <td>на газе</td>\n",
       "      <td>евроремонт</td>\n",
       "      <td>NaN</td>\n",
       "      <td>NaN</td>\n",
       "      <td>...</td>\n",
       "      <td>2024-09-18</td>\n",
       "      <td>NaN</td>\n",
       "      <td>проводной</td>\n",
       "      <td>видеонаблюдение,                              ...</td>\n",
       "      <td>NaN</td>\n",
       "      <td>NaN</td>\n",
       "      <td>NaN</td>\n",
       "      <td>NaN</td>\n",
       "      <td>NaN</td>\n",
       "      <td>NaN</td>\n",
       "    </tr>\n",
       "    <tr>\n",
       "      <th>3</th>\n",
       "      <td>https://www.house.kg/details/696572651eac369ce...</td>\n",
       "      <td>от собственника</td>\n",
       "      <td>элитка</td>\n",
       "      <td>монолитный, 2014 г.</td>\n",
       "      <td>4 этаж из 6</td>\n",
       "      <td>115 м2, кухня: 23 м2</td>\n",
       "      <td>автономное</td>\n",
       "      <td>евроремонт</td>\n",
       "      <td>есть</td>\n",
       "      <td>2 с/у и более</td>\n",
       "      <td>...</td>\n",
       "      <td>2024-09-18</td>\n",
       "      <td>NaN</td>\n",
       "      <td>проводной</td>\n",
       "      <td>домофон,                                      ...</td>\n",
       "      <td>нет</td>\n",
       "      <td>обмен не предлагать</td>\n",
       "      <td>NaN</td>\n",
       "      <td>NaN</td>\n",
       "      <td>NaN</td>\n",
       "      <td>NaN</td>\n",
       "    </tr>\n",
       "    <tr>\n",
       "      <th>4</th>\n",
       "      <td>https://www.house.kg/details/4141411668e6aea34...</td>\n",
       "      <td>от собственника</td>\n",
       "      <td>элитка</td>\n",
       "      <td>кирпичный, 2021 г.</td>\n",
       "      <td>9 этаж из 9</td>\n",
       "      <td>101 м2</td>\n",
       "      <td>на газе</td>\n",
       "      <td>евроремонт</td>\n",
       "      <td>возможно подключение</td>\n",
       "      <td>2 с/у и более</td>\n",
       "      <td>...</td>\n",
       "      <td>2024-09-18</td>\n",
       "      <td>NaN</td>\n",
       "      <td>adsl</td>\n",
       "      <td>решетки на окнах,                             ...</td>\n",
       "      <td>NaN</td>\n",
       "      <td>рассмотрю варианты</td>\n",
       "      <td>NaN</td>\n",
       "      <td>NaN</td>\n",
       "      <td>NaN</td>\n",
       "      <td>NaN</td>\n",
       "    </tr>\n",
       "    <tr>\n",
       "      <th>...</th>\n",
       "      <td>...</td>\n",
       "      <td>...</td>\n",
       "      <td>...</td>\n",
       "      <td>...</td>\n",
       "      <td>...</td>\n",
       "      <td>...</td>\n",
       "      <td>...</td>\n",
       "      <td>...</td>\n",
       "      <td>...</td>\n",
       "      <td>...</td>\n",
       "      <td>...</td>\n",
       "      <td>...</td>\n",
       "      <td>...</td>\n",
       "      <td>...</td>\n",
       "      <td>...</td>\n",
       "      <td>...</td>\n",
       "      <td>...</td>\n",
       "      <td>...</td>\n",
       "      <td>...</td>\n",
       "      <td>...</td>\n",
       "      <td>...</td>\n",
       "    </tr>\n",
       "    <tr>\n",
       "      <th>6499</th>\n",
       "      <td>https://www.house.kg/details/911020166ea8db808...</td>\n",
       "      <td>от агента</td>\n",
       "      <td>элитка</td>\n",
       "      <td>кирпичный, 2022 г.</td>\n",
       "      <td>5 этаж из 5</td>\n",
       "      <td>79 м2, жилая: 36.1 м2, кухня: 12 м2</td>\n",
       "      <td>центральное</td>\n",
       "      <td>хорошее</td>\n",
       "      <td>нет</td>\n",
       "      <td>совмещенный</td>\n",
       "      <td>...</td>\n",
       "      <td>2024-09-18</td>\n",
       "      <td>NaN</td>\n",
       "      <td>оптика</td>\n",
       "      <td>домофон,                                      ...</td>\n",
       "      <td>нет</td>\n",
       "      <td>обмен не предлагать</td>\n",
       "      <td>NaN</td>\n",
       "      <td>NaN</td>\n",
       "      <td>NaN</td>\n",
       "      <td>NaN</td>\n",
       "    </tr>\n",
       "    <tr>\n",
       "      <th>6500</th>\n",
       "      <td>https://www.house.kg/details/390821266ebbff8a4...</td>\n",
       "      <td>от агента</td>\n",
       "      <td>хрущевка</td>\n",
       "      <td>кирпичный, 1965 г.</td>\n",
       "      <td>3 этаж из 4</td>\n",
       "      <td>30 м2, жилая: 18 м2, кухня: 5.5 м2</td>\n",
       "      <td>центральное</td>\n",
       "      <td>среднее</td>\n",
       "      <td>нет</td>\n",
       "      <td>совмещенный</td>\n",
       "      <td>...</td>\n",
       "      <td>2024-09-18</td>\n",
       "      <td>NaN</td>\n",
       "      <td>оптика</td>\n",
       "      <td>домофон</td>\n",
       "      <td>нет</td>\n",
       "      <td>обмен не предлагать</td>\n",
       "      <td>NaN</td>\n",
       "      <td>NaN</td>\n",
       "      <td>NaN</td>\n",
       "      <td>NaN</td>\n",
       "    </tr>\n",
       "    <tr>\n",
       "      <th>6501</th>\n",
       "      <td>https://www.house.kg/details/280086366e90b780f...</td>\n",
       "      <td>от собственника</td>\n",
       "      <td>элитка</td>\n",
       "      <td>кирпичный</td>\n",
       "      <td>4 этаж из 12</td>\n",
       "      <td>50 м2</td>\n",
       "      <td>центральное</td>\n",
       "      <td>евроремонт</td>\n",
       "      <td>NaN</td>\n",
       "      <td>NaN</td>\n",
       "      <td>...</td>\n",
       "      <td>2024-09-18</td>\n",
       "      <td>NaN</td>\n",
       "      <td>NaN</td>\n",
       "      <td>NaN</td>\n",
       "      <td>нет</td>\n",
       "      <td>обмен не предлагать</td>\n",
       "      <td>NaN</td>\n",
       "      <td>NaN</td>\n",
       "      <td>NaN</td>\n",
       "      <td>NaN</td>\n",
       "    </tr>\n",
       "    <tr>\n",
       "      <th>6502</th>\n",
       "      <td>https://www.house.kg/details/104503366e81ead64...</td>\n",
       "      <td>от собственника</td>\n",
       "      <td>105 серия улучшенная</td>\n",
       "      <td>кирпичный, 2024 г.</td>\n",
       "      <td>7 этаж из 9</td>\n",
       "      <td>60 м2</td>\n",
       "      <td>центральное</td>\n",
       "      <td>под самоотделку (псо)</td>\n",
       "      <td>нет</td>\n",
       "      <td>раздельный</td>\n",
       "      <td>...</td>\n",
       "      <td>2024-09-18</td>\n",
       "      <td>NaN</td>\n",
       "      <td>NaN</td>\n",
       "      <td>NaN</td>\n",
       "      <td>NaN</td>\n",
       "      <td>NaN</td>\n",
       "      <td>NaN</td>\n",
       "      <td>NaN</td>\n",
       "      <td>NaN</td>\n",
       "      <td>NaN</td>\n",
       "    </tr>\n",
       "    <tr>\n",
       "      <th>6503</th>\n",
       "      <td>https://www.house.kg/details/9919885667531d97e...</td>\n",
       "      <td>от собственника</td>\n",
       "      <td>элитка</td>\n",
       "      <td>монолитный, 2021 г.</td>\n",
       "      <td>2 этаж из 14</td>\n",
       "      <td>44 м2</td>\n",
       "      <td>на газе</td>\n",
       "      <td>под самоотделку (псо)</td>\n",
       "      <td>NaN</td>\n",
       "      <td>совмещенный</td>\n",
       "      <td>...</td>\n",
       "      <td>2024-09-18</td>\n",
       "      <td>NaN</td>\n",
       "      <td>NaN</td>\n",
       "      <td>NaN</td>\n",
       "      <td>NaN</td>\n",
       "      <td>NaN</td>\n",
       "      <td>NaN</td>\n",
       "      <td>NaN</td>\n",
       "      <td>NaN</td>\n",
       "      <td>NaN</td>\n",
       "    </tr>\n",
       "  </tbody>\n",
       "</table>\n",
       "<p>6504 rows × 42 columns</p>\n",
       "</div>"
      ],
      "text/plain": [
       "                                                    url  Тип предложения  \\\n",
       "0     https://www.house.kg/details/515492365e7189104...  от собственника   \n",
       "1     https://www.house.kg/details/932931666cc8a829e...  от собственника   \n",
       "2     https://www.house.kg/details/266187266e0264c64...  от собственника   \n",
       "3     https://www.house.kg/details/696572651eac369ce...  от собственника   \n",
       "4     https://www.house.kg/details/4141411668e6aea34...  от собственника   \n",
       "...                                                 ...              ...   \n",
       "6499  https://www.house.kg/details/911020166ea8db808...        от агента   \n",
       "6500  https://www.house.kg/details/390821266ebbff8a4...        от агента   \n",
       "6501  https://www.house.kg/details/280086366e90b780f...  от собственника   \n",
       "6502  https://www.house.kg/details/104503366e81ead64...  от собственника   \n",
       "6503  https://www.house.kg/details/9919885667531d97e...  от собственника   \n",
       "\n",
       "                     Серия                  Дом           Этаж  \\\n",
       "0      индивид. планировка   кирпичный, 2024 г.    1 этаж из 3   \n",
       "1                   элитка  монолитный, 2022 г.  12 этаж из 15   \n",
       "2      индивид. планировка   кирпичный, 2021 г.    4 этаж из 4   \n",
       "3                   элитка  монолитный, 2014 г.    4 этаж из 6   \n",
       "4                   элитка   кирпичный, 2021 г.    9 этаж из 9   \n",
       "...                    ...                  ...            ...   \n",
       "6499                элитка   кирпичный, 2022 г.    5 этаж из 5   \n",
       "6500              хрущевка   кирпичный, 1965 г.    3 этаж из 4   \n",
       "6501                элитка            кирпичный   4 этаж из 12   \n",
       "6502  105 серия улучшенная   кирпичный, 2024 г.    7 этаж из 9   \n",
       "6503                элитка  монолитный, 2021 г.   2 этаж из 14   \n",
       "\n",
       "                                  Площадь      Отопление  \\\n",
       "0                                   35 м2  электрическое   \n",
       "1                                   64 м2        на газе   \n",
       "2       39 м2, жилая: 13 м2, кухня: 17 м2        на газе   \n",
       "3                    115 м2, кухня: 23 м2     автономное   \n",
       "4                                  101 м2        на газе   \n",
       "...                                   ...            ...   \n",
       "6499  79 м2, жилая: 36.1 м2, кухня: 12 м2    центральное   \n",
       "6500   30 м2, жилая: 18 м2, кухня: 5.5 м2    центральное   \n",
       "6501                                50 м2    центральное   \n",
       "6502                                60 м2    центральное   \n",
       "6503                                44 м2        на газе   \n",
       "\n",
       "                  Состояние               Телефон        Санузел  ...  \\\n",
       "0                   хорошее  возможно подключение    совмещенный  ...   \n",
       "1                евроремонт                   NaN  2 с/у и более  ...   \n",
       "2                евроремонт                   NaN            NaN  ...   \n",
       "3                евроремонт                  есть  2 с/у и более  ...   \n",
       "4                евроремонт  возможно подключение  2 с/у и более  ...   \n",
       "...                     ...                   ...            ...  ...   \n",
       "6499                хорошее                   нет    совмещенный  ...   \n",
       "6500                среднее                   нет    совмещенный  ...   \n",
       "6501             евроремонт                   NaN            NaN  ...   \n",
       "6502  под самоотделку (псо)                   нет     раздельный  ...   \n",
       "6503  под самоотделку (псо)                   NaN    совмещенный  ...   \n",
       "\n",
       "     current_date  hearts   Интернет  \\\n",
       "0       2024-09-18    NaN        NaN   \n",
       "1       2024-09-18    NaN        NaN   \n",
       "2       2024-09-18    NaN  проводной   \n",
       "3       2024-09-18    NaN  проводной   \n",
       "4       2024-09-18    NaN       adsl   \n",
       "...            ...    ...        ...   \n",
       "6499    2024-09-18    NaN     оптика   \n",
       "6500    2024-09-18    NaN     оптика   \n",
       "6501    2024-09-18    NaN        NaN   \n",
       "6502    2024-09-18    NaN        NaN   \n",
       "6503    2024-09-18    NaN        NaN   \n",
       "\n",
       "                                           Безопасность Возможность рассрочки  \\\n",
       "0                                                   NaN                   NaN   \n",
       "1                                                   NaN                   NaN   \n",
       "2     видеонаблюдение,                              ...                   NaN   \n",
       "3     домофон,                                      ...                   нет   \n",
       "4     решетки на окнах,                             ...                   NaN   \n",
       "...                                                 ...                   ...   \n",
       "6499  домофон,                                      ...                   нет   \n",
       "6500                                            домофон                   нет   \n",
       "6501                                                NaN                   нет   \n",
       "6502                                                NaN                   NaN   \n",
       "6503                                                NaN                   NaN   \n",
       "\n",
       "       Возможность обмена Площадь участка Канализация Питьевая вода  \\\n",
       "0                     NaN             NaN         NaN           NaN   \n",
       "1                     NaN             NaN         NaN           NaN   \n",
       "2                     NaN             NaN         NaN           NaN   \n",
       "3     обмен не предлагать             NaN         NaN           NaN   \n",
       "4      рассмотрю варианты             NaN         NaN           NaN   \n",
       "...                   ...             ...         ...           ...   \n",
       "6499  обмен не предлагать             NaN         NaN           NaN   \n",
       "6500  обмен не предлагать             NaN         NaN           NaN   \n",
       "6501  обмен не предлагать             NaN         NaN           NaN   \n",
       "6502                  NaN             NaN         NaN           NaN   \n",
       "6503                  NaN             NaN         NaN           NaN   \n",
       "\n",
       "     Электричество  \n",
       "0              NaN  \n",
       "1              NaN  \n",
       "2              NaN  \n",
       "3              NaN  \n",
       "4              NaN  \n",
       "...            ...  \n",
       "6499           NaN  \n",
       "6500           NaN  \n",
       "6501           NaN  \n",
       "6502           NaN  \n",
       "6503           NaN  \n",
       "\n",
       "[6504 rows x 42 columns]"
      ]
     },
     "execution_count": 181,
     "metadata": {},
     "output_type": "execute_result"
    }
   ],
   "source": [
    "data"
   ]
  },
  {
   "cell_type": "code",
   "execution_count": 182,
   "metadata": {},
   "outputs": [
    {
     "data": {
      "text/plain": [
       "Index(['url', 'Тип предложения', 'Серия', 'Дом', 'Этаж', 'Площадь',\n",
       "       'Отопление', 'Состояние', 'Телефон', 'Санузел', 'Газ', 'Балкон',\n",
       "       'Входная дверь', 'Парковка', 'Мебель', 'Пол', 'Высота потолков',\n",
       "       'Разное', 'Правоустанавливающие документы', 'Возможность ипотеки',\n",
       "       'address', 'n_rooms', 'describe', 'added', 'upped', 'latitude',\n",
       "       'longitude', 'rating', 'views', 'phone_number', 'USD_price',\n",
       "       'KGS_price ', 'current_date ', 'hearts', 'Интернет', 'Безопасность',\n",
       "       'Возможность рассрочки', 'Возможность обмена', 'Площадь участка',\n",
       "       'Канализация', 'Питьевая вода', 'Электричество'],\n",
       "      dtype='object')"
      ]
     },
     "execution_count": 182,
     "metadata": {},
     "output_type": "execute_result"
    }
   ],
   "source": [
    "data.columns"
   ]
  },
  {
   "cell_type": "code",
   "execution_count": null,
   "metadata": {},
   "outputs": [],
   "source": []
  },
  {
   "cell_type": "code",
   "execution_count": null,
   "metadata": {},
   "outputs": [],
   "source": []
  },
  {
   "cell_type": "code",
   "execution_count": null,
   "metadata": {},
   "outputs": [],
   "source": []
  }
 ],
 "metadata": {
  "kernelspec": {
   "display_name": ".venv",
   "language": "python",
   "name": "python3"
  },
  "language_info": {
   "codemirror_mode": {
    "name": "ipython",
    "version": 3
   },
   "file_extension": ".py",
   "mimetype": "text/x-python",
   "name": "python",
   "nbconvert_exporter": "python",
   "pygments_lexer": "ipython3",
   "version": "3.11.2"
  }
 },
 "nbformat": 4,
 "nbformat_minor": 2
}
