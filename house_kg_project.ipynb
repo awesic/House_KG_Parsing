{
  "cells": [
    {
      "cell_type": "code",
      "execution_count": 1,
      "metadata": {
        "id": "zZ12iQjVSpaj"
      },
      "outputs": [],
      "source": [
        "import matplotlib.pyplot as plt\n",
        "import seaborn as sns\n",
        "import numpy as np\n",
        "import pandas as pd"
      ]
    },
    {
      "cell_type": "markdown",
      "metadata": {
        "id": "mV8Ltwfpsfht"
      },
      "source": [
        "Данныe с Kaggle"
      ]
    },
    {
      "cell_type": "code",
      "execution_count": 3,
      "metadata": {
        "colab": {
          "base_uri": "https://localhost:8080/",
          "height": 1000
        },
        "id": "a1aiOPXITx6z",
        "outputId": "190779d8-0aa3-4e37-cdbb-7d7cc275625b"
      },
      "outputs": [
        {
          "data": {
            "text/html": [
              "<div>\n",
              "<style scoped>\n",
              "    .dataframe tbody tr th:only-of-type {\n",
              "        vertical-align: middle;\n",
              "    }\n",
              "\n",
              "    .dataframe tbody tr th {\n",
              "        vertical-align: top;\n",
              "    }\n",
              "\n",
              "    .dataframe thead th {\n",
              "        text-align: right;\n",
              "    }\n",
              "</style>\n",
              "<table border=\"1\" class=\"dataframe\">\n",
              "  <thead>\n",
              "    <tr style=\"text-align: right;\">\n",
              "      <th></th>\n",
              "      <th>header_details</th>\n",
              "      <th>address</th>\n",
              "      <th>latitude</th>\n",
              "      <th>longitude</th>\n",
              "      <th>user_name</th>\n",
              "      <th>user_url</th>\n",
              "      <th>tel_number</th>\n",
              "      <th>price_dollars</th>\n",
              "      <th>Тип предложения</th>\n",
              "      <th>Серия</th>\n",
              "      <th>...</th>\n",
              "      <th>Пол</th>\n",
              "      <th>Безопасность</th>\n",
              "      <th>Возможность обмена</th>\n",
              "      <th>Возможность рассрочки</th>\n",
              "      <th>Возможность ипотеки</th>\n",
              "      <th>num_of_comments</th>\n",
              "      <th>Площадь участка</th>\n",
              "      <th>Канализация</th>\n",
              "      <th>Питьевая вода</th>\n",
              "      <th>Электричество</th>\n",
              "    </tr>\n",
              "  </thead>\n",
              "  <tbody>\n",
              "    <tr>\n",
              "      <th>0</th>\n",
              "      <td>2-комн. кв., 47 м2</td>\n",
              "      <td>Бишкек, Магистраль, Байтик Баатыра/Южная магис...</td>\n",
              "      <td>42.8198</td>\n",
              "      <td>74.6040</td>\n",
              "      <td>Моя Столица</td>\n",
              "      <td>https://www.house.kg/moya-stolitsa</td>\n",
              "      <td>+996 706 77-78-27</td>\n",
              "      <td>67000.0</td>\n",
              "      <td>от агента</td>\n",
              "      <td>элитка</td>\n",
              "      <td>...</td>\n",
              "      <td>ламинат</td>\n",
              "      <td>NaN</td>\n",
              "      <td>NaN</td>\n",
              "      <td>NaN</td>\n",
              "      <td>NaN</td>\n",
              "      <td>NaN</td>\n",
              "      <td>NaN</td>\n",
              "      <td>NaN</td>\n",
              "      <td>NaN</td>\n",
              "      <td>NaN</td>\n",
              "    </tr>\n",
              "    <tr>\n",
              "      <th>1</th>\n",
              "      <td>2-комн. кв., 42 м2</td>\n",
              "      <td>Бишкек, Политех, Чынгыз Айтматова/Ахунбаева</td>\n",
              "      <td>42.8424</td>\n",
              "      <td>74.5855</td>\n",
              "      <td>Сауле Телепергенов...</td>\n",
              "      <td>https://www.house.kg/megapolis-3</td>\n",
              "      <td>+996 558 71-88-07</td>\n",
              "      <td>54000.0</td>\n",
              "      <td>от агента</td>\n",
              "      <td>сталинка</td>\n",
              "      <td>...</td>\n",
              "      <td>NaN</td>\n",
              "      <td>NaN</td>\n",
              "      <td>NaN</td>\n",
              "      <td>NaN</td>\n",
              "      <td>NaN</td>\n",
              "      <td>NaN</td>\n",
              "      <td>NaN</td>\n",
              "      <td>NaN</td>\n",
              "      <td>NaN</td>\n",
              "      <td>NaN</td>\n",
              "    </tr>\n",
              "    <tr>\n",
              "      <th>2</th>\n",
              "      <td>3-комн. кв., 110 м2</td>\n",
              "      <td>Бишкек, Джал-29 м-н</td>\n",
              "      <td>42.8316</td>\n",
              "      <td>74.5661</td>\n",
              "      <td>БорБор Недвижимост...</td>\n",
              "      <td>https://www.house.kg/borbor-nedvizhimost-rusla...</td>\n",
              "      <td>+996 701 69-80-03</td>\n",
              "      <td>122000.0</td>\n",
              "      <td>от агента</td>\n",
              "      <td>элитка</td>\n",
              "      <td>...</td>\n",
              "      <td>паркет</td>\n",
              "      <td>домофон,                                      ...</td>\n",
              "      <td>обмен не предлагать</td>\n",
              "      <td>нет</td>\n",
              "      <td>нет</td>\n",
              "      <td>NaN</td>\n",
              "      <td>NaN</td>\n",
              "      <td>NaN</td>\n",
              "      <td>NaN</td>\n",
              "      <td>NaN</td>\n",
              "    </tr>\n",
              "    <tr>\n",
              "      <th>3</th>\n",
              "      <td>2-комн. кв., 68 м2</td>\n",
              "      <td>Бишкек, Магистраль, Куттубаева/Южная Магистраль</td>\n",
              "      <td>42.8161</td>\n",
              "      <td>74.6228</td>\n",
              "      <td>Пользователь</td>\n",
              "      <td>https://www.house.kg/user/d5189d256e491cd4a628...</td>\n",
              "      <td>+996 550 94-00-11</td>\n",
              "      <td>92000.0</td>\n",
              "      <td>от собственника</td>\n",
              "      <td>элитка</td>\n",
              "      <td>...</td>\n",
              "      <td>ламинат</td>\n",
              "      <td>охрана,                                       ...</td>\n",
              "      <td>NaN</td>\n",
              "      <td>NaN</td>\n",
              "      <td>NaN</td>\n",
              "      <td>NaN</td>\n",
              "      <td>NaN</td>\n",
              "      <td>NaN</td>\n",
              "      <td>NaN</td>\n",
              "      <td>NaN</td>\n",
              "    </tr>\n",
              "    <tr>\n",
              "      <th>4</th>\n",
              "      <td>1-комн. кв., 46 м2</td>\n",
              "      <td>Бишкек, Средний Джал м-н, мкр Джал-23 18/2</td>\n",
              "      <td>42.8403</td>\n",
              "      <td>74.5650</td>\n",
              "      <td>АН Амир Глобал</td>\n",
              "      <td>https://www.house.kg/an-amir-global</td>\n",
              "      <td>+996 556 03-14-16</td>\n",
              "      <td>69000.0</td>\n",
              "      <td>от агента</td>\n",
              "      <td>элитка</td>\n",
              "      <td>...</td>\n",
              "      <td>ламинат</td>\n",
              "      <td>домофон</td>\n",
              "      <td>NaN</td>\n",
              "      <td>нет</td>\n",
              "      <td>нет</td>\n",
              "      <td>NaN</td>\n",
              "      <td>NaN</td>\n",
              "      <td>NaN</td>\n",
              "      <td>NaN</td>\n",
              "      <td>NaN</td>\n",
              "    </tr>\n",
              "  </tbody>\n",
              "</table>\n",
              "<p>5 rows × 41 columns</p>\n",
              "</div>"
            ],
            "text/plain": [
              "        header_details                                            address  \\\n",
              "0   2-комн. кв., 47 м2  Бишкек, Магистраль, Байтик Баатыра/Южная магис...   \n",
              "1   2-комн. кв., 42 м2        Бишкек, Политех, Чынгыз Айтматова/Ахунбаева   \n",
              "2  3-комн. кв., 110 м2                                Бишкек, Джал-29 м-н   \n",
              "3   2-комн. кв., 68 м2    Бишкек, Магистраль, Куттубаева/Южная Магистраль   \n",
              "4   1-комн. кв., 46 м2         Бишкек, Средний Джал м-н, мкр Джал-23 18/2   \n",
              "\n",
              "   latitude  longitude              user_name  \\\n",
              "0   42.8198    74.6040            Моя Столица   \n",
              "1   42.8424    74.5855  Сауле Телепергенов...   \n",
              "2   42.8316    74.5661  БорБор Недвижимост...   \n",
              "3   42.8161    74.6228           Пользователь   \n",
              "4   42.8403    74.5650         АН Амир Глобал   \n",
              "\n",
              "                                            user_url         tel_number  \\\n",
              "0                 https://www.house.kg/moya-stolitsa  +996 706 77-78-27   \n",
              "1                   https://www.house.kg/megapolis-3  +996 558 71-88-07   \n",
              "2  https://www.house.kg/borbor-nedvizhimost-rusla...  +996 701 69-80-03   \n",
              "3  https://www.house.kg/user/d5189d256e491cd4a628...  +996 550 94-00-11   \n",
              "4                https://www.house.kg/an-amir-global  +996 556 03-14-16   \n",
              "\n",
              "   price_dollars  Тип предложения     Серия  ...      Пол  \\\n",
              "0        67000.0        от агента    элитка  ...  ламинат   \n",
              "1        54000.0        от агента  сталинка  ...      NaN   \n",
              "2       122000.0        от агента    элитка  ...   паркет   \n",
              "3        92000.0  от собственника    элитка  ...  ламинат   \n",
              "4        69000.0        от агента    элитка  ...  ламинат   \n",
              "\n",
              "                                        Безопасность   Возможность обмена  \\\n",
              "0                                                NaN                  NaN   \n",
              "1                                                NaN                  NaN   \n",
              "2  домофон,                                      ...  обмен не предлагать   \n",
              "3  охрана,                                       ...                  NaN   \n",
              "4                                            домофон                  NaN   \n",
              "\n",
              "  Возможность рассрочки Возможность ипотеки num_of_comments Площадь участка  \\\n",
              "0                   NaN                 NaN             NaN             NaN   \n",
              "1                   NaN                 NaN             NaN             NaN   \n",
              "2                   нет                 нет             NaN             NaN   \n",
              "3                   NaN                 NaN             NaN             NaN   \n",
              "4                   нет                 нет             NaN             NaN   \n",
              "\n",
              "  Канализация Питьевая вода Электричество  \n",
              "0         NaN           NaN           NaN  \n",
              "1         NaN           NaN           NaN  \n",
              "2         NaN           NaN           NaN  \n",
              "3         NaN           NaN           NaN  \n",
              "4         NaN           NaN           NaN  \n",
              "\n",
              "[5 rows x 41 columns]"
            ]
          },
          "execution_count": 3,
          "metadata": {},
          "output_type": "execute_result"
        }
      ],
      "source": [
        "df = pd.read_csv('train_.csv')\n",
        "df.head()"
      ]
    },
    {
      "cell_type": "code",
      "execution_count": null,
      "metadata": {
        "colab": {
          "base_uri": "https://localhost:8080/"
        },
        "id": "C-CkNCN8Tx4K",
        "outputId": "7100c186-e14d-4d93-bf1d-04cd0cafefb8"
      },
      "outputs": [
        {
          "data": {
            "text/plain": [
              "Index(['header_details', 'address', 'latitude', 'longitude', 'user_name',\n",
              "       'user_url', 'tel_number', 'price_dollars', 'Тип предложения', 'Серия',\n",
              "       'Дом', 'Этаж', 'Площадь', 'Отопление', 'Состояние', 'Санузел', 'Газ',\n",
              "       'Входная дверь', 'Парковка', 'Высота потолков', 'Разное',\n",
              "       'Правоустанавливающие документы', 'views', 'hearts', 'publicated',\n",
              "       'upped', 'pictures', 'Телефон', 'Интернет', 'Балкон', 'Мебель', 'Пол',\n",
              "       'Безопасность', 'Возможность обмена', 'Возможность рассрочки',\n",
              "       'Возможность ипотеки', 'num_of_comments', 'Площадь участка',\n",
              "       'Канализация', 'Питьевая вода', 'Электричество'],\n",
              "      dtype='object')"
            ]
          },
          "execution_count": 6,
          "metadata": {},
          "output_type": "execute_result"
        }
      ],
      "source": [
        "df.columns"
      ]
    },
    {
      "cell_type": "code",
      "execution_count": null,
      "metadata": {
        "colab": {
          "base_uri": "https://localhost:8080/"
        },
        "id": "_BYceY9vTx1c",
        "outputId": "f2f8ba27-3418-482d-a50a-7f39425b9849"
      },
      "outputs": [
        {
          "name": "stdout",
          "output_type": "stream",
          "text": [
            "<class 'pandas.core.frame.DataFrame'>\n",
            "RangeIndex: 3367 entries, 0 to 3366\n",
            "Data columns (total 41 columns):\n",
            " #   Column                          Non-Null Count  Dtype  \n",
            "---  ------                          --------------  -----  \n",
            " 0   header_details                  3364 non-null   object \n",
            " 1   address                         3367 non-null   object \n",
            " 2   latitude                        3364 non-null   float64\n",
            " 3   longitude                       3364 non-null   float64\n",
            " 4   user_name                       3367 non-null   object \n",
            " 5   user_url                        3367 non-null   object \n",
            " 6   tel_number                      3364 non-null   object \n",
            " 7   price_dollars                   3367 non-null   float64\n",
            " 8   Тип предложения                 3364 non-null   object \n",
            " 9   Серия                           3364 non-null   object \n",
            " 10  Дом                             3364 non-null   object \n",
            " 11  Этаж                            3361 non-null   object \n",
            " 12  Площадь                         3364 non-null   object \n",
            " 13  Отопление                       2807 non-null   object \n",
            " 14  Состояние                       3081 non-null   object \n",
            " 15  Санузел                         1765 non-null   object \n",
            " 16  Газ                             1531 non-null   object \n",
            " 17  Входная дверь                   1568 non-null   object \n",
            " 18  Парковка                        1152 non-null   object \n",
            " 19  Высота потолков                 2157 non-null   object \n",
            " 20  Разное                          1225 non-null   object \n",
            " 21  Правоустанавливающие документы  1916 non-null   object \n",
            " 22  views                           3364 non-null   float64\n",
            " 23  hearts                          2339 non-null   float64\n",
            " 24  publicated                      3364 non-null   object \n",
            " 25  upped                           2871 non-null   object \n",
            " 26  pictures                        3364 non-null   object \n",
            " 27  Телефон                         1091 non-null   object \n",
            " 28  Интернет                        1133 non-null   object \n",
            " 29  Балкон                          1504 non-null   object \n",
            " 30  Мебель                          1511 non-null   object \n",
            " 31  Пол                             1060 non-null   object \n",
            " 32  Безопасность                    1288 non-null   object \n",
            " 33  Возможность обмена              881 non-null    object \n",
            " 34  Возможность рассрочки           700 non-null    object \n",
            " 35  Возможность ипотеки             1035 non-null   object \n",
            " 36  num_of_comments                 36 non-null     float64\n",
            " 37  Площадь участка                 3 non-null      object \n",
            " 38  Канализация                     1 non-null      object \n",
            " 39  Питьевая вода                   1 non-null      object \n",
            " 40  Электричество                   1 non-null      object \n",
            "dtypes: float64(6), object(35)\n",
            "memory usage: 1.1+ MB\n"
          ]
        }
      ],
      "source": [
        "df.info()"
      ]
    },
    {
      "cell_type": "code",
      "execution_count": null,
      "metadata": {
        "id": "EkXDuWZHTxy-"
      },
      "outputs": [],
      "source": []
    },
    {
      "cell_type": "markdown",
      "metadata": {
        "id": "1icdX4riVxjU"
      },
      "source": [
        "## Препроцессинг.\n",
        "\n",
        "Выполните первый базовый тюнинг данных.. Более детальная предобработка будет выполнена на этапе аналитики.\n",
        "\n",
        "* `header_details` - на основании данной фичи получить две с количеством комнат и площадью.\n",
        "* Проверить на дупликаты и удалить их\n",
        "* Удалить фичи, где слишком мало непустых значений.\n",
        "* Удалить строки, где есть пропуски по самым необходимым фичам.\n",
        "* Сделать и иной тип предобработки признаков на ваше усмотрение.\n",
        "* Из адреса достать Регион (и) населенный пункт.\n",
        "\n",
        "Весь данный этап оформить в виде лаконичного кода, который отработает и для тренировочных и тестовых данных."
      ]
    },
    {
      "cell_type": "markdown",
      "metadata": {},
      "source": [
        "### Extracting number of rooms and square"
      ]
    },
    {
      "cell_type": "code",
      "execution_count": 109,
      "metadata": {},
      "outputs": [],
      "source": [
        "df['rooms'] = df.header_details.map(lambda x: x[0] if type(x) == str else x).map(lambda x: 0 if x == 'с' else x)"
      ]
    },
    {
      "cell_type": "markdown",
      "metadata": {},
      "source": [
        "### Count NaNs and drop rows if there less than or equal 30% of columns"
      ]
    },
    {
      "cell_type": "code",
      "execution_count": 113,
      "metadata": {},
      "outputs": [],
      "source": [
        "total_columns = len(df.columns)\n",
        "\n",
        "nan_counts = df.isna().sum(axis=1)\n",
        "\n",
        "threshold = total_columns * 0.7\n",
        "df_cleaned = df[nan_counts <= threshold]"
      ]
    },
    {
      "cell_type": "code",
      "execution_count": 114,
      "metadata": {},
      "outputs": [
        {
          "data": {
            "text/html": [
              "<div>\n",
              "<style scoped>\n",
              "    .dataframe tbody tr th:only-of-type {\n",
              "        vertical-align: middle;\n",
              "    }\n",
              "\n",
              "    .dataframe tbody tr th {\n",
              "        vertical-align: top;\n",
              "    }\n",
              "\n",
              "    .dataframe thead th {\n",
              "        text-align: right;\n",
              "    }\n",
              "</style>\n",
              "<table border=\"1\" class=\"dataframe\">\n",
              "  <thead>\n",
              "    <tr style=\"text-align: right;\">\n",
              "      <th></th>\n",
              "      <th>header_details</th>\n",
              "      <th>address</th>\n",
              "      <th>latitude</th>\n",
              "      <th>longitude</th>\n",
              "      <th>user_name</th>\n",
              "      <th>user_url</th>\n",
              "      <th>tel_number</th>\n",
              "      <th>price_dollars</th>\n",
              "      <th>Тип предложения</th>\n",
              "      <th>Серия</th>\n",
              "      <th>...</th>\n",
              "      <th>Безопасность</th>\n",
              "      <th>Возможность обмена</th>\n",
              "      <th>Возможность рассрочки</th>\n",
              "      <th>Возможность ипотеки</th>\n",
              "      <th>num_of_comments</th>\n",
              "      <th>Площадь участка</th>\n",
              "      <th>Канализация</th>\n",
              "      <th>Питьевая вода</th>\n",
              "      <th>Электричество</th>\n",
              "      <th>rooms</th>\n",
              "    </tr>\n",
              "  </thead>\n",
              "  <tbody>\n",
              "    <tr>\n",
              "      <th>0</th>\n",
              "      <td>2-комн. кв., 47 м2</td>\n",
              "      <td>Бишкек, Магистраль, Байтик Баатыра/Южная магис...</td>\n",
              "      <td>42.8198</td>\n",
              "      <td>74.6040</td>\n",
              "      <td>Моя Столица</td>\n",
              "      <td>https://www.house.kg/moya-stolitsa</td>\n",
              "      <td>+996 706 77-78-27</td>\n",
              "      <td>67000.0</td>\n",
              "      <td>от агента</td>\n",
              "      <td>элитка</td>\n",
              "      <td>...</td>\n",
              "      <td>NaN</td>\n",
              "      <td>NaN</td>\n",
              "      <td>NaN</td>\n",
              "      <td>NaN</td>\n",
              "      <td>NaN</td>\n",
              "      <td>NaN</td>\n",
              "      <td>NaN</td>\n",
              "      <td>NaN</td>\n",
              "      <td>NaN</td>\n",
              "      <td>2</td>\n",
              "    </tr>\n",
              "    <tr>\n",
              "      <th>1</th>\n",
              "      <td>2-комн. кв., 42 м2</td>\n",
              "      <td>Бишкек, Политех, Чынгыз Айтматова/Ахунбаева</td>\n",
              "      <td>42.8424</td>\n",
              "      <td>74.5855</td>\n",
              "      <td>Сауле Телепергенов...</td>\n",
              "      <td>https://www.house.kg/megapolis-3</td>\n",
              "      <td>+996 558 71-88-07</td>\n",
              "      <td>54000.0</td>\n",
              "      <td>от агента</td>\n",
              "      <td>сталинка</td>\n",
              "      <td>...</td>\n",
              "      <td>NaN</td>\n",
              "      <td>NaN</td>\n",
              "      <td>NaN</td>\n",
              "      <td>NaN</td>\n",
              "      <td>NaN</td>\n",
              "      <td>NaN</td>\n",
              "      <td>NaN</td>\n",
              "      <td>NaN</td>\n",
              "      <td>NaN</td>\n",
              "      <td>2</td>\n",
              "    </tr>\n",
              "    <tr>\n",
              "      <th>2</th>\n",
              "      <td>3-комн. кв., 110 м2</td>\n",
              "      <td>Бишкек, Джал-29 м-н</td>\n",
              "      <td>42.8316</td>\n",
              "      <td>74.5661</td>\n",
              "      <td>БорБор Недвижимост...</td>\n",
              "      <td>https://www.house.kg/borbor-nedvizhimost-rusla...</td>\n",
              "      <td>+996 701 69-80-03</td>\n",
              "      <td>122000.0</td>\n",
              "      <td>от агента</td>\n",
              "      <td>элитка</td>\n",
              "      <td>...</td>\n",
              "      <td>домофон,                                      ...</td>\n",
              "      <td>обмен не предлагать</td>\n",
              "      <td>нет</td>\n",
              "      <td>нет</td>\n",
              "      <td>NaN</td>\n",
              "      <td>NaN</td>\n",
              "      <td>NaN</td>\n",
              "      <td>NaN</td>\n",
              "      <td>NaN</td>\n",
              "      <td>3</td>\n",
              "    </tr>\n",
              "    <tr>\n",
              "      <th>3</th>\n",
              "      <td>2-комн. кв., 68 м2</td>\n",
              "      <td>Бишкек, Магистраль, Куттубаева/Южная Магистраль</td>\n",
              "      <td>42.8161</td>\n",
              "      <td>74.6228</td>\n",
              "      <td>Пользователь</td>\n",
              "      <td>https://www.house.kg/user/d5189d256e491cd4a628...</td>\n",
              "      <td>+996 550 94-00-11</td>\n",
              "      <td>92000.0</td>\n",
              "      <td>от собственника</td>\n",
              "      <td>элитка</td>\n",
              "      <td>...</td>\n",
              "      <td>охрана,                                       ...</td>\n",
              "      <td>NaN</td>\n",
              "      <td>NaN</td>\n",
              "      <td>NaN</td>\n",
              "      <td>NaN</td>\n",
              "      <td>NaN</td>\n",
              "      <td>NaN</td>\n",
              "      <td>NaN</td>\n",
              "      <td>NaN</td>\n",
              "      <td>2</td>\n",
              "    </tr>\n",
              "    <tr>\n",
              "      <th>4</th>\n",
              "      <td>1-комн. кв., 46 м2</td>\n",
              "      <td>Бишкек, Средний Джал м-н, мкр Джал-23 18/2</td>\n",
              "      <td>42.8403</td>\n",
              "      <td>74.5650</td>\n",
              "      <td>АН Амир Глобал</td>\n",
              "      <td>https://www.house.kg/an-amir-global</td>\n",
              "      <td>+996 556 03-14-16</td>\n",
              "      <td>69000.0</td>\n",
              "      <td>от агента</td>\n",
              "      <td>элитка</td>\n",
              "      <td>...</td>\n",
              "      <td>домофон</td>\n",
              "      <td>NaN</td>\n",
              "      <td>нет</td>\n",
              "      <td>нет</td>\n",
              "      <td>NaN</td>\n",
              "      <td>NaN</td>\n",
              "      <td>NaN</td>\n",
              "      <td>NaN</td>\n",
              "      <td>NaN</td>\n",
              "      <td>1</td>\n",
              "    </tr>\n",
              "  </tbody>\n",
              "</table>\n",
              "<p>5 rows × 42 columns</p>\n",
              "</div>"
            ],
            "text/plain": [
              "        header_details                                            address  \\\n",
              "0   2-комн. кв., 47 м2  Бишкек, Магистраль, Байтик Баатыра/Южная магис...   \n",
              "1   2-комн. кв., 42 м2        Бишкек, Политех, Чынгыз Айтматова/Ахунбаева   \n",
              "2  3-комн. кв., 110 м2                                Бишкек, Джал-29 м-н   \n",
              "3   2-комн. кв., 68 м2    Бишкек, Магистраль, Куттубаева/Южная Магистраль   \n",
              "4   1-комн. кв., 46 м2         Бишкек, Средний Джал м-н, мкр Джал-23 18/2   \n",
              "\n",
              "   latitude  longitude              user_name  \\\n",
              "0   42.8198    74.6040            Моя Столица   \n",
              "1   42.8424    74.5855  Сауле Телепергенов...   \n",
              "2   42.8316    74.5661  БорБор Недвижимост...   \n",
              "3   42.8161    74.6228           Пользователь   \n",
              "4   42.8403    74.5650         АН Амир Глобал   \n",
              "\n",
              "                                            user_url         tel_number  \\\n",
              "0                 https://www.house.kg/moya-stolitsa  +996 706 77-78-27   \n",
              "1                   https://www.house.kg/megapolis-3  +996 558 71-88-07   \n",
              "2  https://www.house.kg/borbor-nedvizhimost-rusla...  +996 701 69-80-03   \n",
              "3  https://www.house.kg/user/d5189d256e491cd4a628...  +996 550 94-00-11   \n",
              "4                https://www.house.kg/an-amir-global  +996 556 03-14-16   \n",
              "\n",
              "   price_dollars  Тип предложения     Серия  ...  \\\n",
              "0        67000.0        от агента    элитка  ...   \n",
              "1        54000.0        от агента  сталинка  ...   \n",
              "2       122000.0        от агента    элитка  ...   \n",
              "3        92000.0  от собственника    элитка  ...   \n",
              "4        69000.0        от агента    элитка  ...   \n",
              "\n",
              "                                        Безопасность   Возможность обмена  \\\n",
              "0                                                NaN                  NaN   \n",
              "1                                                NaN                  NaN   \n",
              "2  домофон,                                      ...  обмен не предлагать   \n",
              "3  охрана,                                       ...                  NaN   \n",
              "4                                            домофон                  NaN   \n",
              "\n",
              "  Возможность рассрочки Возможность ипотеки num_of_comments Площадь участка  \\\n",
              "0                   NaN                 NaN             NaN             NaN   \n",
              "1                   NaN                 NaN             NaN             NaN   \n",
              "2                   нет                 нет             NaN             NaN   \n",
              "3                   NaN                 NaN             NaN             NaN   \n",
              "4                   нет                 нет             NaN             NaN   \n",
              "\n",
              "  Канализация Питьевая вода Электричество rooms  \n",
              "0         NaN           NaN           NaN     2  \n",
              "1         NaN           NaN           NaN     2  \n",
              "2         NaN           NaN           NaN     3  \n",
              "3         NaN           NaN           NaN     2  \n",
              "4         NaN           NaN           NaN     1  \n",
              "\n",
              "[5 rows x 42 columns]"
            ]
          },
          "execution_count": 114,
          "metadata": {},
          "output_type": "execute_result"
        }
      ],
      "source": [
        "df_cleaned.head()"
      ]
    },
    {
      "cell_type": "markdown",
      "metadata": {},
      "source": [
        "#### Extract Squres"
      ]
    },
    {
      "cell_type": "code",
      "execution_count": 130,
      "metadata": {},
      "outputs": [
        {
          "data": {
            "text/plain": [
              "3"
            ]
          },
          "execution_count": 130,
          "metadata": {},
          "output_type": "execute_result"
        }
      ],
      "source": [
        "df['Площадь'].isna().sum()"
      ]
    },
    {
      "cell_type": "code",
      "execution_count": null,
      "metadata": {},
      "outputs": [],
      "source": [
        "df_cleaned['Площадь'] = df_cleaned['Площадь'].map(lambda x: float(x.split()[0]))"
      ]
    },
    {
      "cell_type": "markdown",
      "metadata": {},
      "source": [
        "#### Drop duplicates"
      ]
    },
    {
      "cell_type": "code",
      "execution_count": 126,
      "metadata": {},
      "outputs": [
        {
          "name": "stderr",
          "output_type": "stream",
          "text": [
            "/var/folders/8z/jvm5c3wx6s5_pxwl84cxhzxw0000gn/T/ipykernel_8565/1556128341.py:1: SettingWithCopyWarning: \n",
            "A value is trying to be set on a copy of a slice from a DataFrame\n",
            "\n",
            "See the caveats in the documentation: https://pandas.pydata.org/pandas-docs/stable/user_guide/indexing.html#returning-a-view-versus-a-copy\n",
            "  df_cleaned.drop_duplicates(inplace=True)\n"
          ]
        }
      ],
      "source": [
        "df_cleaned.drop_duplicates(inplace=True)"
      ]
    },
    {
      "cell_type": "code",
      "execution_count": 149,
      "metadata": {},
      "outputs": [],
      "source": [
        "needed_columns = ['address', 'latitude', 'longitude', 'price_dollars', 'Тип предложения', 'Серия',\n",
        "       'Дом', 'Этаж', 'Площадь', 'Отопление', 'Состояние', 'Санузел', 'Газ',\n",
        "       'Входная дверь', 'Парковка', 'Высота потолков', 'Разное',\n",
        "       'Правоустанавливающие документы', 'Телефон', 'Интернет', 'Балкон', 'Мебель', 'Пол',\n",
        "       'Безопасность', 'Возможность обмена', 'Возможность рассрочки',\n",
        "       'Возможность ипотеки', 'rooms']"
      ]
    },
    {
      "cell_type": "code",
      "execution_count": 150,
      "metadata": {},
      "outputs": [],
      "source": [
        "df_cleaned2 = df_cleaned[needed_columns]"
      ]
    },
    {
      "cell_type": "code",
      "execution_count": 169,
      "metadata": {},
      "outputs": [],
      "source": [
        "# part: city, district, address\n",
        "\n",
        "def get_sep_address(item, part='city'):\n",
        "    try:\n",
        "        temp = item.split(',')\n",
        "        \n",
        "        if part == 'city':\n",
        "            return temp[0]\n",
        "        elif part == 'district':\n",
        "            if len(temp) >= 2:\n",
        "               return temp[1]\n",
        "        elif part == 'address':\n",
        "            if len(temp) > 2:\n",
        "               return temp[2]\n",
        "    except Exception:\n",
        "        return item"
      ]
    },
    {
      "cell_type": "code",
      "execution_count": 172,
      "metadata": {},
      "outputs": [
        {
          "data": {
            "text/plain": [
              "0           Бишкек\n",
              "1           Бишкек\n",
              "2           Бишкек\n",
              "3           Бишкек\n",
              "4           Бишкек\n",
              "           ...    \n",
              "3362    с. Кара-Ой\n",
              "3363        Бишкек\n",
              "3364       с. Алга\n",
              "3365        Бишкек\n",
              "3366        Бишкек\n",
              "Name: address, Length: 3364, dtype: object"
            ]
          },
          "execution_count": 172,
          "metadata": {},
          "output_type": "execute_result"
        }
      ],
      "source": [
        "df_cleaned2.address.map(lambda x: get_sep_address(x))"
      ]
    },
    {
      "cell_type": "code",
      "execution_count": 173,
      "metadata": {},
      "outputs": [
        {
          "name": "stderr",
          "output_type": "stream",
          "text": [
            "/var/folders/8z/jvm5c3wx6s5_pxwl84cxhzxw0000gn/T/ipykernel_8565/1762219830.py:15: SettingWithCopyWarning: \n",
            "A value is trying to be set on a copy of a slice from a DataFrame.\n",
            "Try using .loc[row_indexer,col_indexer] = value instead\n",
            "\n",
            "See the caveats in the documentation: https://pandas.pydata.org/pandas-docs/stable/user_guide/indexing.html#returning-a-view-versus-a-copy\n",
            "  df_cleaned2['ремонт'] = df.apply(has_repair, axis=1)\n"
          ]
        }
      ],
      "source": [
        "keywords_repair = ['евроремонт', 'хорошее', 'среднее']\n",
        "keywords_no_repair = ['под самоотделку (псо)','не достроено']\n",
        "\n",
        "def has_repair(row):\n",
        "    if isinstance(row['Состояние'], str):\n",
        "        text = row['Состояние'].lower()\n",
        "        for keyword in keywords_repair:\n",
        "            if keyword in text:\n",
        "                return 'с ремонтом'\n",
        "        for keyword in keywords_no_repair:\n",
        "            if keyword in text:\n",
        "                return 'без ремонта'\n",
        "    return 'не определено'\n",
        "\n",
        "df_cleaned2['ремонт'] = df.apply(has_repair, axis=1)"
      ]
    },
    {
      "cell_type": "code",
      "execution_count": 182,
      "metadata": {},
      "outputs": [
        {
          "data": {
            "text/plain": [
              "6       NaN\n",
              "7       NaN\n",
              "31      NaN\n",
              "32      NaN\n",
              "67      NaN\n",
              "       ... \n",
              "3321    NaN\n",
              "3328    NaN\n",
              "3343    NaN\n",
              "3350    NaN\n",
              "3363    NaN\n",
              "Name: Состояние, Length: 283, dtype: object"
            ]
          },
          "execution_count": 182,
          "metadata": {},
          "output_type": "execute_result"
        }
      ],
      "source": [
        "df_cleaned2.loc[df_cleaned2['ремонт'] == 'не определено', 'Состояние']"
      ]
    },
    {
      "cell_type": "code",
      "execution_count": null,
      "metadata": {},
      "outputs": [],
      "source": []
    },
    {
      "cell_type": "markdown",
      "metadata": {
        "id": "sdxJ1hafWwSF"
      },
      "source": [
        "## Аналитика.\n",
        "\n",
        "Предполагает командну работу. Аналитика - важнейший этап, предваряющий само моделирование. К ней стоит подойти ответственно и тщательно.\n",
        "\n",
        "Тут я напишу вопросы, которые сами напрашиваются. Дело в том, что представленные признаки не все могут быть полезными, и с какими стоит работать еще предстоит выяснить. Также на основании данных признаков можно понаделать новые... Буду писать основные идеи по порядку а затем, эти поинты необходимо распределить среди участников и отработать. После этого все результаты важно  совместно обсудить. (К-командная работа)"
      ]
    },
    {
      "cell_type": "markdown",
      "metadata": {
        "id": "OlK611aqYyqu"
      },
      "source": [
        "Основные проблематики:\n",
        "1. Пропуски.. Есть слабо заполненные фичи. Просто удалить их можно, но если в них есть +\\- треть непустых наблюдений, стоит все же уделить им внимание. Может быть \"пропуск\" тоже вполне себе признак. Выполните t-test или кор тест для непустых значений и оцените, насколько эта фича вам вообще полезна. Используйте визуализацю. Можете также сделать семпл данных и обучить какую-то модельку и посмотреть на коэффициенты. Возможно, есть признаки, которые вы определенно точно удалите.\n",
        "\n",
        "2. Инжиниринг. По категориальным признакам необходимо принять решение как их энкодить.. Сперва их нужно изучить.. какие они формируют группы и каковы там изменчивости целевой переменной. Особенно это касается Региона и населенного пункта. По регионам - сколько у нас данных по каждому? Скорее всего данные нужно разделить, но какие-то регионы объединить в один сегмент. *Координаты* - это тоже признак с которым нужно поработать. Для Столицы там свои фишки, для регионов свои. На что смотрим - на \"гранулы\", то есть на наличие \"групп\", в которых целевая переменная как-то объясняется специфической локацией. Тут открывается возможность наделать кучу категориальных и количественных признаков на основании координат. Сами координаты для моделирования оставлять не стоит. ОЧень полезно смотреть не на полную стоимость а на стоимость одного квадратного метра. Не стоит забывать про L1 регуляризацию. Можно обучить пробную модель и посмотреть, какие признаки будут занулены. По совокупности факторов принять решение, какие признаки хороши а какие нет.\n",
        "\n",
        "3. Аномалии и выбросы. Стоит внимательно изучить количественные признаки в особенности целевую. Чистка данных - это важный поинт. Тут поможет как разного рода погрупповая визуализация так и обучение пробной модели с анализом ошибок!"
      ]
    },
    {
      "cell_type": "markdown",
      "metadata": {
        "id": "Urf8fi7JrDqJ"
      },
      "source": [
        "Такой подход необходимо применить к каждому признаку. Признаки можно распределить среди участников а с координатами поработать совместно.\n",
        "\n",
        "После выполнения аналитики у вас будет масса инсайтов, выводов и графиков. Стоит все результаты совместно обсудить и сформулировать гипотезы о том, как будет проходить процесс моделирования."
      ]
    },
    {
      "cell_type": "markdown",
      "metadata": {
        "id": "tdrjUaX4rnYN"
      },
      "source": [
        "## Моделирование\n",
        "\n",
        "На этапе аналитики вы сформулируете ряд гипотез. Их необходимо распределить среди участников и отработать. Процесс подбора гиперпараметров стоит также распределить как и работу с разными сегментами данных."
      ]
    },
    {
      "cell_type": "code",
      "execution_count": null,
      "metadata": {
        "id": "KO5AZq-cTxtx"
      },
      "outputs": [],
      "source": []
    },
    {
      "cell_type": "code",
      "execution_count": null,
      "metadata": {
        "id": "Hub9TX7nTxrM"
      },
      "outputs": [],
      "source": []
    },
    {
      "cell_type": "code",
      "execution_count": null,
      "metadata": {
        "id": "RHTkxAyfTxoj"
      },
      "outputs": [],
      "source": []
    }
  ],
  "metadata": {
    "colab": {
      "provenance": []
    },
    "kernelspec": {
      "display_name": "Python 3",
      "name": "python3"
    },
    "language_info": {
      "codemirror_mode": {
        "name": "ipython",
        "version": 3
      },
      "file_extension": ".py",
      "mimetype": "text/x-python",
      "name": "python",
      "nbconvert_exporter": "python",
      "pygments_lexer": "ipython3",
      "version": "3.11.2"
    }
  },
  "nbformat": 4,
  "nbformat_minor": 0
}
