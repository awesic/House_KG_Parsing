{
  "cells": [
    {
      "cell_type": "code",
      "execution_count": 1,
      "metadata": {
        "id": "zZ12iQjVSpaj"
      },
      "outputs": [],
      "source": [
        "import matplotlib.pyplot as plt\n",
        "import seaborn as sns\n",
        "import numpy as np\n",
        "import pandas as pd"
      ]
    },
    {
      "cell_type": "markdown",
      "metadata": {
        "id": "mV8Ltwfpsfht"
      },
      "source": [
        "Данныe с Kaggle"
      ]
    },
    {
      "cell_type": "code",
      "execution_count": 2,
      "metadata": {
        "colab": {
          "base_uri": "https://localhost:8080/",
          "height": 1000
        },
        "id": "a1aiOPXITx6z",
        "outputId": "190779d8-0aa3-4e37-cdbb-7d7cc275625b"
      },
      "outputs": [
        {
          "data": {
            "text/html": [
              "<div>\n",
              "<style scoped>\n",
              "    .dataframe tbody tr th:only-of-type {\n",
              "        vertical-align: middle;\n",
              "    }\n",
              "\n",
              "    .dataframe tbody tr th {\n",
              "        vertical-align: top;\n",
              "    }\n",
              "\n",
              "    .dataframe thead th {\n",
              "        text-align: right;\n",
              "    }\n",
              "</style>\n",
              "<table border=\"1\" class=\"dataframe\">\n",
              "  <thead>\n",
              "    <tr style=\"text-align: right;\">\n",
              "      <th></th>\n",
              "      <th>header_details</th>\n",
              "      <th>address</th>\n",
              "      <th>latitude</th>\n",
              "      <th>longitude</th>\n",
              "      <th>user_name</th>\n",
              "      <th>user_url</th>\n",
              "      <th>tel_number</th>\n",
              "      <th>price_dollars</th>\n",
              "      <th>Тип предложения</th>\n",
              "      <th>Серия</th>\n",
              "      <th>...</th>\n",
              "      <th>Пол</th>\n",
              "      <th>Безопасность</th>\n",
              "      <th>Возможность обмена</th>\n",
              "      <th>Возможность рассрочки</th>\n",
              "      <th>Возможность ипотеки</th>\n",
              "      <th>num_of_comments</th>\n",
              "      <th>Площадь участка</th>\n",
              "      <th>Канализация</th>\n",
              "      <th>Питьевая вода</th>\n",
              "      <th>Электричество</th>\n",
              "    </tr>\n",
              "  </thead>\n",
              "  <tbody>\n",
              "    <tr>\n",
              "      <th>0</th>\n",
              "      <td>2-комн. кв., 47 м2</td>\n",
              "      <td>Бишкек, Магистраль, Байтик Баатыра/Южная магис...</td>\n",
              "      <td>42.8198</td>\n",
              "      <td>74.6040</td>\n",
              "      <td>Моя Столица</td>\n",
              "      <td>https://www.house.kg/moya-stolitsa</td>\n",
              "      <td>+996 706 77-78-27</td>\n",
              "      <td>67000.0</td>\n",
              "      <td>от агента</td>\n",
              "      <td>элитка</td>\n",
              "      <td>...</td>\n",
              "      <td>ламинат</td>\n",
              "      <td>NaN</td>\n",
              "      <td>NaN</td>\n",
              "      <td>NaN</td>\n",
              "      <td>NaN</td>\n",
              "      <td>NaN</td>\n",
              "      <td>NaN</td>\n",
              "      <td>NaN</td>\n",
              "      <td>NaN</td>\n",
              "      <td>NaN</td>\n",
              "    </tr>\n",
              "    <tr>\n",
              "      <th>1</th>\n",
              "      <td>2-комн. кв., 42 м2</td>\n",
              "      <td>Бишкек, Политех, Чынгыз Айтматова/Ахунбаева</td>\n",
              "      <td>42.8424</td>\n",
              "      <td>74.5855</td>\n",
              "      <td>Сауле Телепергенов...</td>\n",
              "      <td>https://www.house.kg/megapolis-3</td>\n",
              "      <td>+996 558 71-88-07</td>\n",
              "      <td>54000.0</td>\n",
              "      <td>от агента</td>\n",
              "      <td>сталинка</td>\n",
              "      <td>...</td>\n",
              "      <td>NaN</td>\n",
              "      <td>NaN</td>\n",
              "      <td>NaN</td>\n",
              "      <td>NaN</td>\n",
              "      <td>NaN</td>\n",
              "      <td>NaN</td>\n",
              "      <td>NaN</td>\n",
              "      <td>NaN</td>\n",
              "      <td>NaN</td>\n",
              "      <td>NaN</td>\n",
              "    </tr>\n",
              "    <tr>\n",
              "      <th>2</th>\n",
              "      <td>3-комн. кв., 110 м2</td>\n",
              "      <td>Бишкек, Джал-29 м-н</td>\n",
              "      <td>42.8316</td>\n",
              "      <td>74.5661</td>\n",
              "      <td>БорБор Недвижимост...</td>\n",
              "      <td>https://www.house.kg/borbor-nedvizhimost-rusla...</td>\n",
              "      <td>+996 701 69-80-03</td>\n",
              "      <td>122000.0</td>\n",
              "      <td>от агента</td>\n",
              "      <td>элитка</td>\n",
              "      <td>...</td>\n",
              "      <td>паркет</td>\n",
              "      <td>домофон,                                      ...</td>\n",
              "      <td>обмен не предлагать</td>\n",
              "      <td>нет</td>\n",
              "      <td>нет</td>\n",
              "      <td>NaN</td>\n",
              "      <td>NaN</td>\n",
              "      <td>NaN</td>\n",
              "      <td>NaN</td>\n",
              "      <td>NaN</td>\n",
              "    </tr>\n",
              "    <tr>\n",
              "      <th>3</th>\n",
              "      <td>2-комн. кв., 68 м2</td>\n",
              "      <td>Бишкек, Магистраль, Куттубаева/Южная Магистраль</td>\n",
              "      <td>42.8161</td>\n",
              "      <td>74.6228</td>\n",
              "      <td>Пользователь</td>\n",
              "      <td>https://www.house.kg/user/d5189d256e491cd4a628...</td>\n",
              "      <td>+996 550 94-00-11</td>\n",
              "      <td>92000.0</td>\n",
              "      <td>от собственника</td>\n",
              "      <td>элитка</td>\n",
              "      <td>...</td>\n",
              "      <td>ламинат</td>\n",
              "      <td>охрана,                                       ...</td>\n",
              "      <td>NaN</td>\n",
              "      <td>NaN</td>\n",
              "      <td>NaN</td>\n",
              "      <td>NaN</td>\n",
              "      <td>NaN</td>\n",
              "      <td>NaN</td>\n",
              "      <td>NaN</td>\n",
              "      <td>NaN</td>\n",
              "    </tr>\n",
              "    <tr>\n",
              "      <th>4</th>\n",
              "      <td>1-комн. кв., 46 м2</td>\n",
              "      <td>Бишкек, Средний Джал м-н, мкр Джал-23 18/2</td>\n",
              "      <td>42.8403</td>\n",
              "      <td>74.5650</td>\n",
              "      <td>АН Амир Глобал</td>\n",
              "      <td>https://www.house.kg/an-amir-global</td>\n",
              "      <td>+996 556 03-14-16</td>\n",
              "      <td>69000.0</td>\n",
              "      <td>от агента</td>\n",
              "      <td>элитка</td>\n",
              "      <td>...</td>\n",
              "      <td>ламинат</td>\n",
              "      <td>домофон</td>\n",
              "      <td>NaN</td>\n",
              "      <td>нет</td>\n",
              "      <td>нет</td>\n",
              "      <td>NaN</td>\n",
              "      <td>NaN</td>\n",
              "      <td>NaN</td>\n",
              "      <td>NaN</td>\n",
              "      <td>NaN</td>\n",
              "    </tr>\n",
              "  </tbody>\n",
              "</table>\n",
              "<p>5 rows × 41 columns</p>\n",
              "</div>"
            ],
            "text/plain": [
              "        header_details                                            address  \\\n",
              "0   2-комн. кв., 47 м2  Бишкек, Магистраль, Байтик Баатыра/Южная магис...   \n",
              "1   2-комн. кв., 42 м2        Бишкек, Политех, Чынгыз Айтматова/Ахунбаева   \n",
              "2  3-комн. кв., 110 м2                                Бишкек, Джал-29 м-н   \n",
              "3   2-комн. кв., 68 м2    Бишкек, Магистраль, Куттубаева/Южная Магистраль   \n",
              "4   1-комн. кв., 46 м2         Бишкек, Средний Джал м-н, мкр Джал-23 18/2   \n",
              "\n",
              "   latitude  longitude              user_name  \\\n",
              "0   42.8198    74.6040            Моя Столица   \n",
              "1   42.8424    74.5855  Сауле Телепергенов...   \n",
              "2   42.8316    74.5661  БорБор Недвижимост...   \n",
              "3   42.8161    74.6228           Пользователь   \n",
              "4   42.8403    74.5650         АН Амир Глобал   \n",
              "\n",
              "                                            user_url         tel_number  \\\n",
              "0                 https://www.house.kg/moya-stolitsa  +996 706 77-78-27   \n",
              "1                   https://www.house.kg/megapolis-3  +996 558 71-88-07   \n",
              "2  https://www.house.kg/borbor-nedvizhimost-rusla...  +996 701 69-80-03   \n",
              "3  https://www.house.kg/user/d5189d256e491cd4a628...  +996 550 94-00-11   \n",
              "4                https://www.house.kg/an-amir-global  +996 556 03-14-16   \n",
              "\n",
              "   price_dollars  Тип предложения     Серия  ...      Пол  \\\n",
              "0        67000.0        от агента    элитка  ...  ламинат   \n",
              "1        54000.0        от агента  сталинка  ...      NaN   \n",
              "2       122000.0        от агента    элитка  ...   паркет   \n",
              "3        92000.0  от собственника    элитка  ...  ламинат   \n",
              "4        69000.0        от агента    элитка  ...  ламинат   \n",
              "\n",
              "                                        Безопасность   Возможность обмена  \\\n",
              "0                                                NaN                  NaN   \n",
              "1                                                NaN                  NaN   \n",
              "2  домофон,                                      ...  обмен не предлагать   \n",
              "3  охрана,                                       ...                  NaN   \n",
              "4                                            домофон                  NaN   \n",
              "\n",
              "  Возможность рассрочки Возможность ипотеки num_of_comments Площадь участка  \\\n",
              "0                   NaN                 NaN             NaN             NaN   \n",
              "1                   NaN                 NaN             NaN             NaN   \n",
              "2                   нет                 нет             NaN             NaN   \n",
              "3                   NaN                 NaN             NaN             NaN   \n",
              "4                   нет                 нет             NaN             NaN   \n",
              "\n",
              "  Канализация Питьевая вода Электричество  \n",
              "0         NaN           NaN           NaN  \n",
              "1         NaN           NaN           NaN  \n",
              "2         NaN           NaN           NaN  \n",
              "3         NaN           NaN           NaN  \n",
              "4         NaN           NaN           NaN  \n",
              "\n",
              "[5 rows x 41 columns]"
            ]
          },
          "execution_count": 2,
          "metadata": {},
          "output_type": "execute_result"
        }
      ],
      "source": [
        "df = pd.read_csv('train_.csv')\n",
        "df.head()"
      ]
    },
    {
      "cell_type": "code",
      "execution_count": 3,
      "metadata": {
        "colab": {
          "base_uri": "https://localhost:8080/"
        },
        "id": "C-CkNCN8Tx4K",
        "outputId": "7100c186-e14d-4d93-bf1d-04cd0cafefb8"
      },
      "outputs": [
        {
          "data": {
            "text/plain": [
              "Index(['header_details', 'address', 'latitude', 'longitude', 'user_name',\n",
              "       'user_url', 'tel_number', 'price_dollars', 'Тип предложения', 'Серия',\n",
              "       'Дом', 'Этаж', 'Площадь', 'Отопление', 'Состояние', 'Санузел', 'Газ',\n",
              "       'Входная дверь', 'Парковка', 'Высота потолков', 'Разное',\n",
              "       'Правоустанавливающие документы', 'views', 'hearts', 'publicated',\n",
              "       'upped', 'pictures', 'Телефон', 'Интернет', 'Балкон', 'Мебель', 'Пол',\n",
              "       'Безопасность', 'Возможность обмена', 'Возможность рассрочки',\n",
              "       'Возможность ипотеки', 'num_of_comments', 'Площадь участка',\n",
              "       'Канализация', 'Питьевая вода', 'Электричество'],\n",
              "      dtype='object')"
            ]
          },
          "execution_count": 3,
          "metadata": {},
          "output_type": "execute_result"
        }
      ],
      "source": [
        "df.columns"
      ]
    },
    {
      "cell_type": "code",
      "execution_count": 5,
      "metadata": {
        "colab": {
          "base_uri": "https://localhost:8080/"
        },
        "id": "_BYceY9vTx1c",
        "outputId": "f2f8ba27-3418-482d-a50a-7f39425b9849"
      },
      "outputs": [
        {
          "name": "stdout",
          "output_type": "stream",
          "text": [
            "<class 'pandas.core.frame.DataFrame'>\n",
            "RangeIndex: 3367 entries, 0 to 3366\n",
            "Data columns (total 41 columns):\n",
            " #   Column                          Non-Null Count  Dtype  \n",
            "---  ------                          --------------  -----  \n",
            " 0   header_details                  3364 non-null   object \n",
            " 1   address                         3367 non-null   object \n",
            " 2   latitude                        3364 non-null   float64\n",
            " 3   longitude                       3364 non-null   float64\n",
            " 4   user_name                       3367 non-null   object \n",
            " 5   user_url                        3367 non-null   object \n",
            " 6   tel_number                      3364 non-null   object \n",
            " 7   price_dollars                   3367 non-null   float64\n",
            " 8   Тип предложения                 3364 non-null   object \n",
            " 9   Серия                           3364 non-null   object \n",
            " 10  Дом                             3364 non-null   object \n",
            " 11  Этаж                            3361 non-null   object \n",
            " 12  Площадь                         3364 non-null   object \n",
            " 13  Отопление                       2807 non-null   object \n",
            " 14  Состояние                       3081 non-null   object \n",
            " 15  Санузел                         1765 non-null   object \n",
            " 16  Газ                             1531 non-null   object \n",
            " 17  Входная дверь                   1568 non-null   object \n",
            " 18  Парковка                        1152 non-null   object \n",
            " 19  Высота потолков                 2157 non-null   object \n",
            " 20  Разное                          1225 non-null   object \n",
            " 21  Правоустанавливающие документы  1916 non-null   object \n",
            " 22  views                           3364 non-null   float64\n",
            " 23  hearts                          2339 non-null   float64\n",
            " 24  publicated                      3364 non-null   object \n",
            " 25  upped                           2871 non-null   object \n",
            " 26  pictures                        3364 non-null   object \n",
            " 27  Телефон                         1091 non-null   object \n",
            " 28  Интернет                        1133 non-null   object \n",
            " 29  Балкон                          1504 non-null   object \n",
            " 30  Мебель                          1511 non-null   object \n",
            " 31  Пол                             1060 non-null   object \n",
            " 32  Безопасность                    1288 non-null   object \n",
            " 33  Возможность обмена              881 non-null    object \n",
            " 34  Возможность рассрочки           700 non-null    object \n",
            " 35  Возможность ипотеки             1035 non-null   object \n",
            " 36  num_of_comments                 36 non-null     float64\n",
            " 37  Площадь участка                 3 non-null      object \n",
            " 38  Канализация                     1 non-null      object \n",
            " 39  Питьевая вода                   1 non-null      object \n",
            " 40  Электричество                   1 non-null      object \n",
            "dtypes: float64(6), object(35)\n",
            "memory usage: 1.1+ MB\n"
          ]
        }
      ],
      "source": [
        "df.info()"
      ]
    },
    {
      "cell_type": "markdown",
      "metadata": {
        "id": "1icdX4riVxjU"
      },
      "source": [
        "## Препроцессинг.\n",
        "\n",
        "Выполните первый базовый тюнинг данных.. Более детальная предобработка будет выполнена на этапе аналитики.\n",
        "\n",
        "* `header_details` - на основании данной фичи получить две с количеством комнат и площадью.\n",
        "* Проверить на дупликаты и удалить их\n",
        "* Удалить фичи, где слишком мало непустых значений.\n",
        "* Удалить строки, где есть пропуски по самым необходимым фичам.\n",
        "* Сделать и иной тип предобработки признаков на ваше усмотрение.\n",
        "* Из адреса достать Регион (и) населенный пункт.\n",
        "\n",
        "Весь данный этап оформить в виде лаконичного кода, который отработает и для тренировочных и тестовых данных."
      ]
    },
    {
      "cell_type": "markdown",
      "metadata": {},
      "source": [
        "### Extracting number of rooms and area"
      ]
    },
    {
      "cell_type": "code",
      "execution_count": 4,
      "metadata": {},
      "outputs": [],
      "source": [
        "df['rooms'] = df.header_details.map(lambda x: x[0] if type(x) == str else x).map(lambda x: 0 if x == 'с' else x)"
      ]
    },
    {
      "cell_type": "markdown",
      "metadata": {},
      "source": [
        "### Count NaNs and drop rows if there less than or equal 30% of columns"
      ]
    },
    {
      "cell_type": "code",
      "execution_count": 5,
      "metadata": {},
      "outputs": [],
      "source": [
        "total_columns = len(df.columns)\n",
        "\n",
        "nan_counts = df.isna().sum(axis=1)\n",
        "\n",
        "threshold = total_columns * 0.7\n",
        "df_cleaned = df[nan_counts <= threshold]"
      ]
    },
    {
      "cell_type": "code",
      "execution_count": 6,
      "metadata": {},
      "outputs": [
        {
          "data": {
            "text/html": [
              "<div>\n",
              "<style scoped>\n",
              "    .dataframe tbody tr th:only-of-type {\n",
              "        vertical-align: middle;\n",
              "    }\n",
              "\n",
              "    .dataframe tbody tr th {\n",
              "        vertical-align: top;\n",
              "    }\n",
              "\n",
              "    .dataframe thead th {\n",
              "        text-align: right;\n",
              "    }\n",
              "</style>\n",
              "<table border=\"1\" class=\"dataframe\">\n",
              "  <thead>\n",
              "    <tr style=\"text-align: right;\">\n",
              "      <th></th>\n",
              "      <th>header_details</th>\n",
              "      <th>address</th>\n",
              "      <th>latitude</th>\n",
              "      <th>longitude</th>\n",
              "      <th>user_name</th>\n",
              "      <th>user_url</th>\n",
              "      <th>tel_number</th>\n",
              "      <th>price_dollars</th>\n",
              "      <th>Тип предложения</th>\n",
              "      <th>Серия</th>\n",
              "      <th>...</th>\n",
              "      <th>Безопасность</th>\n",
              "      <th>Возможность обмена</th>\n",
              "      <th>Возможность рассрочки</th>\n",
              "      <th>Возможность ипотеки</th>\n",
              "      <th>num_of_comments</th>\n",
              "      <th>Площадь участка</th>\n",
              "      <th>Канализация</th>\n",
              "      <th>Питьевая вода</th>\n",
              "      <th>Электричество</th>\n",
              "      <th>rooms</th>\n",
              "    </tr>\n",
              "  </thead>\n",
              "  <tbody>\n",
              "    <tr>\n",
              "      <th>0</th>\n",
              "      <td>2-комн. кв., 47 м2</td>\n",
              "      <td>Бишкек, Магистраль, Байтик Баатыра/Южная магис...</td>\n",
              "      <td>42.8198</td>\n",
              "      <td>74.6040</td>\n",
              "      <td>Моя Столица</td>\n",
              "      <td>https://www.house.kg/moya-stolitsa</td>\n",
              "      <td>+996 706 77-78-27</td>\n",
              "      <td>67000.0</td>\n",
              "      <td>от агента</td>\n",
              "      <td>элитка</td>\n",
              "      <td>...</td>\n",
              "      <td>NaN</td>\n",
              "      <td>NaN</td>\n",
              "      <td>NaN</td>\n",
              "      <td>NaN</td>\n",
              "      <td>NaN</td>\n",
              "      <td>NaN</td>\n",
              "      <td>NaN</td>\n",
              "      <td>NaN</td>\n",
              "      <td>NaN</td>\n",
              "      <td>2</td>\n",
              "    </tr>\n",
              "    <tr>\n",
              "      <th>1</th>\n",
              "      <td>2-комн. кв., 42 м2</td>\n",
              "      <td>Бишкек, Политех, Чынгыз Айтматова/Ахунбаева</td>\n",
              "      <td>42.8424</td>\n",
              "      <td>74.5855</td>\n",
              "      <td>Сауле Телепергенов...</td>\n",
              "      <td>https://www.house.kg/megapolis-3</td>\n",
              "      <td>+996 558 71-88-07</td>\n",
              "      <td>54000.0</td>\n",
              "      <td>от агента</td>\n",
              "      <td>сталинка</td>\n",
              "      <td>...</td>\n",
              "      <td>NaN</td>\n",
              "      <td>NaN</td>\n",
              "      <td>NaN</td>\n",
              "      <td>NaN</td>\n",
              "      <td>NaN</td>\n",
              "      <td>NaN</td>\n",
              "      <td>NaN</td>\n",
              "      <td>NaN</td>\n",
              "      <td>NaN</td>\n",
              "      <td>2</td>\n",
              "    </tr>\n",
              "    <tr>\n",
              "      <th>2</th>\n",
              "      <td>3-комн. кв., 110 м2</td>\n",
              "      <td>Бишкек, Джал-29 м-н</td>\n",
              "      <td>42.8316</td>\n",
              "      <td>74.5661</td>\n",
              "      <td>БорБор Недвижимост...</td>\n",
              "      <td>https://www.house.kg/borbor-nedvizhimost-rusla...</td>\n",
              "      <td>+996 701 69-80-03</td>\n",
              "      <td>122000.0</td>\n",
              "      <td>от агента</td>\n",
              "      <td>элитка</td>\n",
              "      <td>...</td>\n",
              "      <td>домофон,                                      ...</td>\n",
              "      <td>обмен не предлагать</td>\n",
              "      <td>нет</td>\n",
              "      <td>нет</td>\n",
              "      <td>NaN</td>\n",
              "      <td>NaN</td>\n",
              "      <td>NaN</td>\n",
              "      <td>NaN</td>\n",
              "      <td>NaN</td>\n",
              "      <td>3</td>\n",
              "    </tr>\n",
              "    <tr>\n",
              "      <th>3</th>\n",
              "      <td>2-комн. кв., 68 м2</td>\n",
              "      <td>Бишкек, Магистраль, Куттубаева/Южная Магистраль</td>\n",
              "      <td>42.8161</td>\n",
              "      <td>74.6228</td>\n",
              "      <td>Пользователь</td>\n",
              "      <td>https://www.house.kg/user/d5189d256e491cd4a628...</td>\n",
              "      <td>+996 550 94-00-11</td>\n",
              "      <td>92000.0</td>\n",
              "      <td>от собственника</td>\n",
              "      <td>элитка</td>\n",
              "      <td>...</td>\n",
              "      <td>охрана,                                       ...</td>\n",
              "      <td>NaN</td>\n",
              "      <td>NaN</td>\n",
              "      <td>NaN</td>\n",
              "      <td>NaN</td>\n",
              "      <td>NaN</td>\n",
              "      <td>NaN</td>\n",
              "      <td>NaN</td>\n",
              "      <td>NaN</td>\n",
              "      <td>2</td>\n",
              "    </tr>\n",
              "    <tr>\n",
              "      <th>4</th>\n",
              "      <td>1-комн. кв., 46 м2</td>\n",
              "      <td>Бишкек, Средний Джал м-н, мкр Джал-23 18/2</td>\n",
              "      <td>42.8403</td>\n",
              "      <td>74.5650</td>\n",
              "      <td>АН Амир Глобал</td>\n",
              "      <td>https://www.house.kg/an-amir-global</td>\n",
              "      <td>+996 556 03-14-16</td>\n",
              "      <td>69000.0</td>\n",
              "      <td>от агента</td>\n",
              "      <td>элитка</td>\n",
              "      <td>...</td>\n",
              "      <td>домофон</td>\n",
              "      <td>NaN</td>\n",
              "      <td>нет</td>\n",
              "      <td>нет</td>\n",
              "      <td>NaN</td>\n",
              "      <td>NaN</td>\n",
              "      <td>NaN</td>\n",
              "      <td>NaN</td>\n",
              "      <td>NaN</td>\n",
              "      <td>1</td>\n",
              "    </tr>\n",
              "  </tbody>\n",
              "</table>\n",
              "<p>5 rows × 42 columns</p>\n",
              "</div>"
            ],
            "text/plain": [
              "        header_details                                            address  \\\n",
              "0   2-комн. кв., 47 м2  Бишкек, Магистраль, Байтик Баатыра/Южная магис...   \n",
              "1   2-комн. кв., 42 м2        Бишкек, Политех, Чынгыз Айтматова/Ахунбаева   \n",
              "2  3-комн. кв., 110 м2                                Бишкек, Джал-29 м-н   \n",
              "3   2-комн. кв., 68 м2    Бишкек, Магистраль, Куттубаева/Южная Магистраль   \n",
              "4   1-комн. кв., 46 м2         Бишкек, Средний Джал м-н, мкр Джал-23 18/2   \n",
              "\n",
              "   latitude  longitude              user_name  \\\n",
              "0   42.8198    74.6040            Моя Столица   \n",
              "1   42.8424    74.5855  Сауле Телепергенов...   \n",
              "2   42.8316    74.5661  БорБор Недвижимост...   \n",
              "3   42.8161    74.6228           Пользователь   \n",
              "4   42.8403    74.5650         АН Амир Глобал   \n",
              "\n",
              "                                            user_url         tel_number  \\\n",
              "0                 https://www.house.kg/moya-stolitsa  +996 706 77-78-27   \n",
              "1                   https://www.house.kg/megapolis-3  +996 558 71-88-07   \n",
              "2  https://www.house.kg/borbor-nedvizhimost-rusla...  +996 701 69-80-03   \n",
              "3  https://www.house.kg/user/d5189d256e491cd4a628...  +996 550 94-00-11   \n",
              "4                https://www.house.kg/an-amir-global  +996 556 03-14-16   \n",
              "\n",
              "   price_dollars  Тип предложения     Серия  ...  \\\n",
              "0        67000.0        от агента    элитка  ...   \n",
              "1        54000.0        от агента  сталинка  ...   \n",
              "2       122000.0        от агента    элитка  ...   \n",
              "3        92000.0  от собственника    элитка  ...   \n",
              "4        69000.0        от агента    элитка  ...   \n",
              "\n",
              "                                        Безопасность   Возможность обмена  \\\n",
              "0                                                NaN                  NaN   \n",
              "1                                                NaN                  NaN   \n",
              "2  домофон,                                      ...  обмен не предлагать   \n",
              "3  охрана,                                       ...                  NaN   \n",
              "4                                            домофон                  NaN   \n",
              "\n",
              "  Возможность рассрочки Возможность ипотеки num_of_comments Площадь участка  \\\n",
              "0                   NaN                 NaN             NaN             NaN   \n",
              "1                   NaN                 NaN             NaN             NaN   \n",
              "2                   нет                 нет             NaN             NaN   \n",
              "3                   NaN                 NaN             NaN             NaN   \n",
              "4                   нет                 нет             NaN             NaN   \n",
              "\n",
              "  Канализация Питьевая вода Электричество rooms  \n",
              "0         NaN           NaN           NaN     2  \n",
              "1         NaN           NaN           NaN     2  \n",
              "2         NaN           NaN           NaN     3  \n",
              "3         NaN           NaN           NaN     2  \n",
              "4         NaN           NaN           NaN     1  \n",
              "\n",
              "[5 rows x 42 columns]"
            ]
          },
          "execution_count": 6,
          "metadata": {},
          "output_type": "execute_result"
        }
      ],
      "source": [
        "df_cleaned.head()"
      ]
    },
    {
      "cell_type": "markdown",
      "metadata": {},
      "source": [
        "#### Extract Squres"
      ]
    },
    {
      "cell_type": "code",
      "execution_count": 8,
      "metadata": {},
      "outputs": [
        {
          "data": {
            "text/plain": [
              "3"
            ]
          },
          "execution_count": 8,
          "metadata": {},
          "output_type": "execute_result"
        }
      ],
      "source": [
        "df['Площадь'].isna().sum()"
      ]
    },
    {
      "cell_type": "code",
      "execution_count": 7,
      "metadata": {},
      "outputs": [
        {
          "name": "stderr",
          "output_type": "stream",
          "text": [
            "/var/folders/8z/jvm5c3wx6s5_pxwl84cxhzxw0000gn/T/ipykernel_1974/1670164222.py:1: SettingWithCopyWarning: \n",
            "A value is trying to be set on a copy of a slice from a DataFrame.\n",
            "Try using .loc[row_indexer,col_indexer] = value instead\n",
            "\n",
            "See the caveats in the documentation: https://pandas.pydata.org/pandas-docs/stable/user_guide/indexing.html#returning-a-view-versus-a-copy\n",
            "  df_cleaned['Площадь'] = df_cleaned['Площадь'].map(lambda x: float(x.split()[0]))\n"
          ]
        }
      ],
      "source": [
        "df_cleaned['Площадь'] = df_cleaned['Площадь'].map(lambda x: float(x.split()[0]))"
      ]
    },
    {
      "cell_type": "markdown",
      "metadata": {},
      "source": [
        "#### Drop duplicates"
      ]
    },
    {
      "cell_type": "code",
      "execution_count": null,
      "metadata": {},
      "outputs": [],
      "source": [
        "df_cleaned.drop_duplicates(inplace=True)"
      ]
    },
    {
      "cell_type": "code",
      "execution_count": 8,
      "metadata": {},
      "outputs": [],
      "source": [
        "needed_columns = ['address', 'latitude', 'longitude', 'price_dollars', 'Тип предложения', 'Серия',\n",
        "       'Дом', 'Этаж', 'Площадь', 'Отопление', 'Состояние', 'Санузел', 'Газ',\n",
        "       'Входная дверь', 'Парковка', 'Высота потолков', 'Разное',\n",
        "       'Правоустанавливающие документы', 'Телефон', 'Интернет', 'Балкон', 'Мебель', 'Пол',\n",
        "       'Безопасность', 'Возможность обмена', 'Возможность рассрочки',\n",
        "       'Возможность ипотеки', 'rooms']"
      ]
    },
    {
      "cell_type": "code",
      "execution_count": 9,
      "metadata": {},
      "outputs": [],
      "source": [
        "df_cleaned2 = df_cleaned[needed_columns]"
      ]
    },
    {
      "cell_type": "markdown",
      "metadata": {},
      "source": [
        "### Change columns language to english"
      ]
    },
    {
      "cell_type": "code",
      "execution_count": 10,
      "metadata": {},
      "outputs": [],
      "source": [
        "eng_cols = ['address', 'latitude', 'longitude', 'price_dollars', 'offer_type', 'series',\n",
        "       'dom', 'floor', 'area', 'heating', 'condition', 'bathroom', 'gas',\n",
        "       'front_door', 'parking', 'ceiling_height', 'another',\n",
        "       'title_deeds', 'telephone', 'internet', 'balcony', 'furniture', 'flooring',\n",
        "       'security', 'possibility_of_exchange', 'possibility_of_installments',\n",
        "       'mortgage_possibility', 'rooms']"
      ]
    },
    {
      "cell_type": "code",
      "execution_count": 11,
      "metadata": {},
      "outputs": [],
      "source": [
        "df_cleaned2.columns = eng_cols"
      ]
    },
    {
      "cell_type": "code",
      "execution_count": 12,
      "metadata": {},
      "outputs": [
        {
          "data": {
            "text/plain": [
              "Index(['address', 'latitude', 'longitude', 'price_dollars', 'offer_type',\n",
              "       'series', 'dom', 'floor', 'area', 'heating', 'condition', 'bathroom',\n",
              "       'gas', 'front_door', 'parking', 'ceiling_height', 'another',\n",
              "       'title_deeds', 'telephone', 'internet', 'balcony', 'furniture',\n",
              "       'flooring', 'security', 'possibility_of_exchange',\n",
              "       'possibility_of_installments', 'mortgage_possibility', 'rooms'],\n",
              "      dtype='object')"
            ]
          },
          "execution_count": 12,
          "metadata": {},
          "output_type": "execute_result"
        }
      ],
      "source": [
        "df_cleaned2.columns"
      ]
    },
    {
      "cell_type": "markdown",
      "metadata": {},
      "source": [
        "### Extracting from general address: city, district and address"
      ]
    },
    {
      "cell_type": "code",
      "execution_count": 13,
      "metadata": {},
      "outputs": [],
      "source": [
        "import re\n",
        "\n",
        "def prepare_string(string:str)->str:\n",
        "    house_number_pattern = re.compile(r'(?<!м-н)(?<!-мкр)(?<!ж/м)\\s*\\b\\d+[a-zA-Zа-яА-Я]*\\b|\\b\\d+/\\d+\\b')\n",
        "    temp_str = string\n",
        "    if '/' in string and 'ж/м' not in string:\n",
        "        temp_str = string.split('/')[0]\n",
        "    \n",
        "    temp_str = temp_str.split()\n",
        "    \n",
        "    if temp_str[-1] not in ['м-н', 'мкр', 'ж/м'] and any(char.isdigit() for char in temp_str[-1]) and len(temp_str) >= 2:\n",
        "        temp_str = temp_str[:-1]\n",
        "            \n",
        "    # temp_str = re.sub(r'\\b\\d+\\s?[А-Г]?\\b', '', temp_str)\n",
        "    # temp_str = temp_str[:-1].append(last_item)\n",
        "\n",
        "    return ' '.join(temp_str)\n",
        "    # return string\n",
        "    # else:\n",
        "    #     ('ул.' in string or 'пер.' in string)\n",
        "    # if all(char in allowed_chars for char in temp_str[-1]):\n",
        "    #     return ' '.join(temp_str[:-1])\n",
        "    # else:\n",
        "    #     return house_number_pattern.sub('', string).strip()"
      ]
    },
    {
      "cell_type": "code",
      "execution_count": 14,
      "metadata": {},
      "outputs": [],
      "source": [
        "# part: city, district, address\n",
        "\n",
        "def get_sep_address(item, part='city'):\n",
        "    try:\n",
        "        temp = item.split(',')\n",
        "        \n",
        "        if part == 'city':\n",
        "            if 'Бишкек' in temp[0]:\n",
        "                return 'Бишкек'\n",
        "            return prepare_string(temp[0].strip())\n",
        "        elif part == 'district':\n",
        "            if len(temp) >= 2:\n",
        "               return prepare_string(temp[1].strip())\n",
        "            else:\n",
        "               return prepare_string(temp[0].strip())\n",
        "        elif part == 'address':\n",
        "            return temp[-1].strip()\n",
        "    except Exception:\n",
        "        return item"
      ]
    },
    {
      "cell_type": "code",
      "execution_count": 15,
      "metadata": {},
      "outputs": [
        {
          "name": "stderr",
          "output_type": "stream",
          "text": [
            "/var/folders/8z/jvm5c3wx6s5_pxwl84cxhzxw0000gn/T/ipykernel_1974/1651983115.py:1: SettingWithCopyWarning: \n",
            "A value is trying to be set on a copy of a slice from a DataFrame.\n",
            "Try using .loc[row_indexer,col_indexer] = value instead\n",
            "\n",
            "See the caveats in the documentation: https://pandas.pydata.org/pandas-docs/stable/user_guide/indexing.html#returning-a-view-versus-a-copy\n",
            "  df_cleaned2['city'] = df_cleaned2.address.map(lambda x: get_sep_address(x))\n",
            "/var/folders/8z/jvm5c3wx6s5_pxwl84cxhzxw0000gn/T/ipykernel_1974/1651983115.py:2: SettingWithCopyWarning: \n",
            "A value is trying to be set on a copy of a slice from a DataFrame.\n",
            "Try using .loc[row_indexer,col_indexer] = value instead\n",
            "\n",
            "See the caveats in the documentation: https://pandas.pydata.org/pandas-docs/stable/user_guide/indexing.html#returning-a-view-versus-a-copy\n",
            "  df_cleaned2['district'] = df_cleaned2.address.map(lambda x: get_sep_address(x, 'district'))\n",
            "/var/folders/8z/jvm5c3wx6s5_pxwl84cxhzxw0000gn/T/ipykernel_1974/1651983115.py:3: SettingWithCopyWarning: \n",
            "A value is trying to be set on a copy of a slice from a DataFrame.\n",
            "Try using .loc[row_indexer,col_indexer] = value instead\n",
            "\n",
            "See the caveats in the documentation: https://pandas.pydata.org/pandas-docs/stable/user_guide/indexing.html#returning-a-view-versus-a-copy\n",
            "  df_cleaned2['addr'] = df_cleaned2.address.map(lambda x: get_sep_address(x, 'address'))\n"
          ]
        }
      ],
      "source": [
        "df_cleaned2['city'] = df_cleaned2.address.map(lambda x: get_sep_address(x))\n",
        "df_cleaned2['district'] = df_cleaned2.address.map(lambda x: get_sep_address(x, 'district'))\n",
        "df_cleaned2['addr'] = df_cleaned2.address.map(lambda x: get_sep_address(x, 'address'))"
      ]
    },
    {
      "cell_type": "code",
      "execution_count": null,
      "metadata": {},
      "outputs": [],
      "source": [
        "df_cleaned2.drop('address', axis=1, inplace=True)"
      ]
    },
    {
      "cell_type": "markdown",
      "metadata": {},
      "source": [
        "### Apply new column via 'Состояние' column"
      ]
    },
    {
      "cell_type": "code",
      "execution_count": 16,
      "metadata": {},
      "outputs": [
        {
          "name": "stderr",
          "output_type": "stream",
          "text": [
            "/var/folders/8z/jvm5c3wx6s5_pxwl84cxhzxw0000gn/T/ipykernel_1974/2025584122.py:15: SettingWithCopyWarning: \n",
            "A value is trying to be set on a copy of a slice from a DataFrame.\n",
            "Try using .loc[row_indexer,col_indexer] = value instead\n",
            "\n",
            "See the caveats in the documentation: https://pandas.pydata.org/pandas-docs/stable/user_guide/indexing.html#returning-a-view-versus-a-copy\n",
            "  df_cleaned2['renovation'] = df_cleaned2.apply(has_repair, axis=1)\n"
          ]
        }
      ],
      "source": [
        "keywords_repair = ['евроремонт', 'хорошее', 'среднее']\n",
        "keywords_no_repair = ['под самоотделку (псо)','не достроено']\n",
        "\n",
        "def has_repair(row):\n",
        "    if isinstance(row['condition'], str):\n",
        "        text = row['condition'].lower()\n",
        "        for keyword in keywords_repair:\n",
        "            if keyword in text:\n",
        "                return 'с ремонтом'\n",
        "        for keyword in keywords_no_repair:\n",
        "            if keyword in text:\n",
        "                return 'без ремонта'\n",
        "    return 'не определено'\n",
        "\n",
        "df_cleaned2['renovation'] = df_cleaned2.apply(has_repair, axis=1)"
      ]
    },
    {
      "cell_type": "code",
      "execution_count": 235,
      "metadata": {},
      "outputs": [],
      "source": [
        "# df_cleaned2.drop('condition', axis=1, inplace=True)"
      ]
    },
    {
      "cell_type": "markdown",
      "metadata": {},
      "source": [
        "### Getting floors and total floors"
      ]
    },
    {
      "cell_type": "code",
      "execution_count": 18,
      "metadata": {},
      "outputs": [],
      "source": [
        "# 0 - floor, 1 - total floors\n",
        "def get_floors(item, mode=0):\n",
        "    try:\n",
        "        temp = item.split()\n",
        "        if mode:\n",
        "            if temp[0] in ['цоколь', 'подвал']:\n",
        "                return temp[-2]\n",
        "            return temp[-1]\n",
        "        else:\n",
        "            if temp[0] in ['цоколь', 'подвал']:\n",
        "                return 0\n",
        "            return temp[0]\n",
        "    except:\n",
        "        return item"
      ]
    },
    {
      "cell_type": "code",
      "execution_count": null,
      "metadata": {},
      "outputs": [],
      "source": [
        "df_cleaned2['total_floors'] = df_cleaned2['floor'].apply(lambda x: get_floors(x, 1))\n",
        "df_cleaned2['floor'] = df_cleaned2['floor'].apply(lambda x: get_floors(x, 0))"
      ]
    },
    {
      "cell_type": "markdown",
      "metadata": {},
      "source": [
        "### Splitting house type and year"
      ]
    },
    {
      "cell_type": "code",
      "execution_count": 21,
      "metadata": {},
      "outputs": [],
      "source": [
        "# what: 'type' or 'year'\n",
        "def get_dom_type_and_year(item, what='type'):\n",
        "    try:\n",
        "        temp = item.split(',')\n",
        "        if what == 'type':\n",
        "            return temp[0]\n",
        "        elif what == 'year':\n",
        "            if  len(temp) > 1:\n",
        "                year = temp[1].split()\n",
        "                return year[0].strip()\n",
        "            else:\n",
        "                return np.nan\n",
        "    except:\n",
        "        return item"
      ]
    },
    {
      "cell_type": "code",
      "execution_count": 60,
      "metadata": {},
      "outputs": [
        {
          "name": "stderr",
          "output_type": "stream",
          "text": [
            "/var/folders/8z/jvm5c3wx6s5_pxwl84cxhzxw0000gn/T/ipykernel_1974/2588201064.py:1: SettingWithCopyWarning: \n",
            "A value is trying to be set on a copy of a slice from a DataFrame.\n",
            "Try using .loc[row_indexer,col_indexer] = value instead\n",
            "\n",
            "See the caveats in the documentation: https://pandas.pydata.org/pandas-docs/stable/user_guide/indexing.html#returning-a-view-versus-a-copy\n",
            "  df_cleaned2['dom_type'] = df_cleaned2.dom.map(lambda x: get_dom_type_and_year(x))\n"
          ]
        },
        {
          "data": {
            "text/plain": [
              "array(['монолитный', 'кирпичный', 'панельный'], dtype=object)"
            ]
          },
          "execution_count": 60,
          "metadata": {},
          "output_type": "execute_result"
        }
      ],
      "source": [
        "df_cleaned2['dom_type'] = df_cleaned2.dom.map(lambda x: get_dom_type_and_year(x))\n",
        "\n",
        "df_cleaned2.dom_type.unique()"
      ]
    },
    {
      "cell_type": "code",
      "execution_count": 61,
      "metadata": {},
      "outputs": [
        {
          "name": "stderr",
          "output_type": "stream",
          "text": [
            "/var/folders/8z/jvm5c3wx6s5_pxwl84cxhzxw0000gn/T/ipykernel_1974/969573491.py:1: SettingWithCopyWarning: \n",
            "A value is trying to be set on a copy of a slice from a DataFrame.\n",
            "Try using .loc[row_indexer,col_indexer] = value instead\n",
            "\n",
            "See the caveats in the documentation: https://pandas.pydata.org/pandas-docs/stable/user_guide/indexing.html#returning-a-view-versus-a-copy\n",
            "  df_cleaned2['dom_year'] = df_cleaned2.dom.map(lambda x: get_dom_type_and_year(x, 'year'))\n"
          ]
        },
        {
          "data": {
            "text/plain": [
              "array(['2022', nan, '2024', '2020', '2021', '2005', '2023', '2017',\n",
              "       '2019', '2016', '2018', '1985', '2013', '2025', '1994', '1979',\n",
              "       '2006', '2007', '1992', '1975', '2015', '2011', '2014', '1990',\n",
              "       '1988', '2010', '1980', '1997', '2009', '1966', '1999', '1987',\n",
              "       '2026', '1958', '1968', '1984', '1972', '1993', '1965', '2012',\n",
              "       '2008', '1989', '1970', '2003', '1969', '1967', '1978', '1964',\n",
              "       '2001', '2027', '1981', '2000', '0', '1950', '1974', '2028',\n",
              "       '1986', '1998', '1960', '1956', '1982', '1995', '1991', '1963',\n",
              "       '1973', '1983', '1976', '1678', '1971', '1977', '1955'],\n",
              "      dtype=object)"
            ]
          },
          "execution_count": 61,
          "metadata": {},
          "output_type": "execute_result"
        }
      ],
      "source": [
        "df_cleaned2['dom_year'] = df_cleaned2.dom.map(lambda x: get_dom_type_and_year(x, 'year'))\n",
        "\n",
        "df_cleaned2.dom_year.unique()"
      ]
    },
    {
      "cell_type": "code",
      "execution_count": 62,
      "metadata": {},
      "outputs": [
        {
          "name": "stderr",
          "output_type": "stream",
          "text": [
            "/var/folders/8z/jvm5c3wx6s5_pxwl84cxhzxw0000gn/T/ipykernel_1974/1813962409.py:1: SettingWithCopyWarning: \n",
            "A value is trying to be set on a copy of a slice from a DataFrame.\n",
            "Try using .loc[row_indexer,col_indexer] = value instead\n",
            "\n",
            "See the caveats in the documentation: https://pandas.pydata.org/pandas-docs/stable/user_guide/indexing.html#returning-a-view-versus-a-copy\n",
            "  df_cleaned2.dom_year = df_cleaned2.dom_year.astype(float)\n"
          ]
        }
      ],
      "source": [
        "df_cleaned2.dom_year = df_cleaned2.dom_year.astype(float)\n",
        "\n",
        "median_dom_year = df_cleaned2.groupby(['dom_type', 'series'])['dom_year'].median()"
      ]
    },
    {
      "cell_type": "code",
      "execution_count": 63,
      "metadata": {},
      "outputs": [
        {
          "data": {
            "text/plain": [
              "dom_type    series              \n",
              "кирпичный   102 серия               1980.0\n",
              "            104 серия               1975.0\n",
              "            104 серия улучшенная    1997.0\n",
              "            105 серия               1981.0\n",
              "            105 серия улучшенная    2007.5\n",
              "            106 серия               1972.0\n",
              "            106 серия улучшенная    2004.5\n",
              "            107 серия               1973.0\n",
              "            108 серия               2023.0\n",
              "            индивид. планировка     2015.0\n",
              "            малосемейка             1993.5\n",
              "            пентхаус                2015.5\n",
              "            сталинка                1960.0\n",
              "            хрущевка                1967.5\n",
              "            элитка                  2022.0\n",
              "монолитный  102 серия               2024.0\n",
              "            104 серия               1970.0\n",
              "            104 серия улучшенная       NaN\n",
              "            105 серия               1989.0\n",
              "            105 серия улучшенная    2018.0\n",
              "            106 серия               1992.0\n",
              "            106 серия улучшенная    2023.0\n",
              "            107 серия               2024.0\n",
              "            108 серия               2022.0\n",
              "            индивид. планировка     2021.0\n",
              "            малосемейка             2016.0\n",
              "            пентхаус                2016.0\n",
              "            сталинка                2023.0\n",
              "            хрущевка                   NaN\n",
              "            элитка                  2022.0\n",
              "панельный   104 серия               1975.0\n",
              "            104 серия улучшенная    1985.0\n",
              "            105 серия               1989.0\n",
              "            105 серия улучшенная    1989.5\n",
              "            106 серия               1992.0\n",
              "            106 серия улучшенная    2016.0\n",
              "            107 серия                  NaN\n",
              "            108 серия               2023.0\n",
              "            индивид. планировка     2016.5\n",
              "            малосемейка             1990.0\n",
              "            хрущевка                1960.0\n",
              "            элитка                  2022.0\n",
              "Name: dom_year, dtype: float64"
            ]
          },
          "execution_count": 63,
          "metadata": {},
          "output_type": "execute_result"
        }
      ],
      "source": [
        "median_dom_year"
      ]
    },
    {
      "cell_type": "markdown",
      "metadata": {},
      "source": [
        "Посмотрев на данные сверху можно заполнить NaN значением выше"
      ]
    },
    {
      "cell_type": "code",
      "execution_count": 64,
      "metadata": {},
      "outputs": [
        {
          "name": "stderr",
          "output_type": "stream",
          "text": [
            "/var/folders/8z/jvm5c3wx6s5_pxwl84cxhzxw0000gn/T/ipykernel_1974/2814986751.py:1: FutureWarning: Series.fillna with 'method' is deprecated and will raise in a future version. Use obj.ffill() or obj.bfill() instead.\n",
            "  median_dom_year.fillna(method='ffill', inplace=True)\n"
          ]
        }
      ],
      "source": [
        "median_dom_year.fillna(method='ffill', inplace=True)"
      ]
    },
    {
      "cell_type": "code",
      "execution_count": 65,
      "metadata": {},
      "outputs": [
        {
          "name": "stderr",
          "output_type": "stream",
          "text": [
            "/var/folders/8z/jvm5c3wx6s5_pxwl84cxhzxw0000gn/T/ipykernel_1974/3509805184.py:11: FutureWarning: Calling float on a single element Series is deprecated and will raise a TypeError in the future. Use float(ser.iloc[0]) instead\n",
            "  temp_col[i] = value\n",
            "/var/folders/8z/jvm5c3wx6s5_pxwl84cxhzxw0000gn/T/ipykernel_1974/3509805184.py:15: SettingWithCopyWarning: \n",
            "A value is trying to be set on a copy of a slice from a DataFrame.\n",
            "Try using .loc[row_indexer,col_indexer] = value instead\n",
            "\n",
            "See the caveats in the documentation: https://pandas.pydata.org/pandas-docs/stable/user_guide/indexing.html#returning-a-view-versus-a-copy\n",
            "  df_cleaned2['dom_year'] = fillna_dom_year(df_cleaned2)\n"
          ]
        }
      ],
      "source": [
        "def fillna_dom_year(df:pd.DataFrame):\n",
        "    temp_df = df.copy()\n",
        "    ind = temp_df[temp_df.dom_year.isna()].index\n",
        "    temp_col = temp_df['dom_year'].copy()\n",
        "    \n",
        "    for i in ind:\n",
        "        temp_row = temp_df[temp_df.index == i]\n",
        "        dom_type = temp_row['dom_type'].values[0]\n",
        "        series = temp_row['series'].values[0]\n",
        "        value = median_dom_year[median_dom_year.index == (dom_type, series)]\n",
        "        temp_col[i] = value\n",
        "        \n",
        "    return temp_col\n",
        "    \n",
        "df_cleaned2['dom_year'] = fillna_dom_year(df_cleaned2)"
      ]
    },
    {
      "cell_type": "code",
      "execution_count": 73,
      "metadata": {},
      "outputs": [
        {
          "name": "stderr",
          "output_type": "stream",
          "text": [
            "/var/folders/8z/jvm5c3wx6s5_pxwl84cxhzxw0000gn/T/ipykernel_1974/3652153642.py:1: SettingWithCopyWarning: \n",
            "A value is trying to be set on a copy of a slice from a DataFrame.\n",
            "Try using .loc[row_indexer,col_indexer] = value instead\n",
            "\n",
            "See the caveats in the documentation: https://pandas.pydata.org/pandas-docs/stable/user_guide/indexing.html#returning-a-view-versus-a-copy\n",
            "  df_cleaned2.dom_year = df_cleaned2.dom_year.astype(int)\n"
          ]
        }
      ],
      "source": [
        "df_cleaned2.dom_year = df_cleaned2.dom_year.astype(int)\n",
        "\n",
        "df_cleaned2.drop('dom', axis=1, inplace=True)"
      ]
    },
    {
      "cell_type": "markdown",
      "metadata": {},
      "source": [
        "### Working with floor nan"
      ]
    },
    {
      "cell_type": "code",
      "execution_count": 188,
      "metadata": {},
      "outputs": [],
      "source": [
        "# Функция для преобразования этажа\n",
        "def transform_floor(floor, total_floors):\n",
        "    try:\n",
        "        # # Преобразование: функция, которая даёт большие значения для средних этажей\n",
        "        transformed_value = 1 - 4 * ((floor - (total_floors / 2)) / total_floors)**2\n",
        "        # transformed_value = 1 - abs(floor - (total_floors / 2)) / (total_floors / 2)\n",
        "    \n",
        "    # Нормализуем для возврата в диапазон от 0 до 1\n",
        "        if transformed_value < 0.0:\n",
        "            transformed_value = 0.0\n",
        "        return transformed_value\n",
        "    except:\n",
        "        return np.nan"
      ]
    },
    {
      "cell_type": "code",
      "execution_count": 86,
      "metadata": {},
      "outputs": [],
      "source": [
        "# Заполняет нуллы медианой \n",
        "def fillna_floors_by_dom(df:pd.DataFrame, col='total_floors'):\n",
        "    median_floor = df.groupby(['dom_type', 'series'])[col].median()\n",
        "    ind = df[df[col].isna()].index\n",
        "    temp_col = df[col].copy()\n",
        "    \n",
        "    for i in ind:\n",
        "        temp_row = df[df.index == i]\n",
        "        dom_type = temp_row['dom_type'].values[0]\n",
        "        series = temp_row['series'].values[0]\n",
        "        value = median_floor[median_floor.index == (dom_type, series)]\n",
        "        temp_col[i] = value\n",
        "    \n",
        "    return temp_col\n",
        "\n",
        "\n",
        "def fillna_floors(df:pd.DataFrame, col='total_floors'):\n",
        "    test_df = df.copy()\n",
        "    test_df[col] = test_df[col].astype(float)\n",
        "    \n",
        "    median_floor = test_df.groupby('district', as_index=False)[col].median()\n",
        "    ind = test_df[test_df[col].isna()].index\n",
        "    temp_col = test_df[col].copy()\n",
        "    \n",
        "    for i in ind:\n",
        "        district = test_df[test_df.index == i]['district'].values[0]\n",
        "        value = median_floor[median_floor['district'] == district][col].values[0]\n",
        "        temp_col[i] = value\n",
        "        \n",
        "    if temp_col.isna().any():\n",
        "        test_df[col] = temp_col\n",
        "        temp_col = fillna_floors_by_dom(test_df, col)\n",
        "    \n",
        "    return temp_col"
      ]
    },
    {
      "cell_type": "code",
      "execution_count": null,
      "metadata": {},
      "outputs": [],
      "source": [
        "df_cleaned2['total_floors'] = fillna_floors(df_cleaned2, 'total_floors')\n",
        "\n",
        "df_cleaned2['floor'] = fillna_floors(df_cleaned2, 'floor')"
      ]
    },
    {
      "cell_type": "code",
      "execution_count": 199,
      "metadata": {},
      "outputs": [],
      "source": [
        "def get_floor_score(df:pd.DataFrame, floor_col='floor', totalf_col='total_floors')->pd.Series:\n",
        "    res = []\n",
        "    for f, t in zip(df[floor_col], df[totalf_col]):\n",
        "        res.append(transform_floor(f, t))\n",
        "    return pd.Series(res, index=df.index)"
      ]
    },
    {
      "cell_type": "code",
      "execution_count": null,
      "metadata": {},
      "outputs": [],
      "source": [
        "df_cleaned2['floor_score'] = get_floor_score(df_cleaned2)"
      ]
    },
    {
      "cell_type": "markdown",
      "metadata": {},
      "source": [
        "Now we can drop floor and total_floors columns, we dont need them anymore"
      ]
    },
    {
      "cell_type": "code",
      "execution_count": null,
      "metadata": {},
      "outputs": [],
      "source": [
        "df_cleaned2.drop(['floor', 'total_floors'], axis=1, inplace=True)"
      ]
    },
    {
      "cell_type": "markdown",
      "metadata": {},
      "source": [
        "### Обработка высоты потолков"
      ]
    },
    {
      "cell_type": "code",
      "execution_count": 207,
      "metadata": {},
      "outputs": [],
      "source": [
        "def scaling_ceiling_heights(height)->float:\n",
        "    try:\n",
        "        temp = float(height.split()[0])\n",
        "        \n",
        "        if temp > 6.0:\n",
        "            temp = str(temp)\n",
        "            temp = temp[0] + '.' + temp[1:-2]\n",
        "            temp = float(temp)\n",
        "        return temp    \n",
        "    except:\n",
        "        return height"
      ]
    },
    {
      "cell_type": "code",
      "execution_count": null,
      "metadata": {},
      "outputs": [],
      "source": [
        "df_cleaned2['ceiling_height'] = df_cleaned2['ceiling_height'].map(scaling_ceiling_heights)"
      ]
    },
    {
      "cell_type": "code",
      "execution_count": 227,
      "metadata": {},
      "outputs": [],
      "source": [
        "def fillna_ceil_height(df:pd.DataFrame)->pd.Series:\n",
        "    dict_ = {'элитка': 3.25,\n",
        "    'сталинка': 3.35,\n",
        "    'индивид. планировка': 3.05,\n",
        "    '106 серия': 2.6,\n",
        "    '106 серия улучшенная': 2.75,\n",
        "    'малосемейка': 2.55,\n",
        "    'хрущевка': 2.55,\n",
        "    '105 серия': 2.6,\n",
        "    '104 серия': 2.6,\n",
        "    'пентхаус': 4.0,\n",
        "    '108 серия': 2.65,\n",
        "    '107 серия': 2.65,\n",
        "    '104 серия улучшенная': 2.75,\n",
        "    '105 серия улучшенная': 2.75,\n",
        "    '102 серия': 2.6,}\n",
        "\n",
        "    temp_df = df.copy()\n",
        "    ind = temp_df[temp_df['ceiling_height'].isna()].index\n",
        "    for i in ind:\n",
        "        temp_df.loc[i,'ceiling_height'] = dict_.get(temp_df.loc[i, 'series'])\n",
        "        \n",
        "    return temp_df['ceiling_height']"
      ]
    },
    {
      "cell_type": "code",
      "execution_count": null,
      "metadata": {},
      "outputs": [],
      "source": [
        "df_cleaned2['ceiling_height'] = fillna_ceil_height(df_cleaned2)"
      ]
    },
    {
      "cell_type": "code",
      "execution_count": 258,
      "metadata": {},
      "outputs": [
        {
          "data": {
            "text/plain": [
              "Index(['address', 'latitude', 'longitude', 'price_dollars', 'offer_type',\n",
              "       'series', 'area', 'heating', 'bathroom', 'gas', 'front_door', 'parking',\n",
              "       'ceiling_height', 'another', 'title_deeds', 'telephone', 'internet',\n",
              "       'balcony', 'furniture', 'flooring', 'security',\n",
              "       'possibility_of_exchange', 'possibility_of_installments',\n",
              "       'mortgage_possibility', 'rooms', 'city', 'district', 'addr',\n",
              "       'renovation', 'dom_type', 'dom_year', 'floor_score', 'floor',\n",
              "       'total_floors', 'condition'],\n",
              "      dtype='object')"
            ]
          },
          "execution_count": 258,
          "metadata": {},
          "output_type": "execute_result"
        }
      ],
      "source": [
        "df_cleaned2.columns"
      ]
    },
    {
      "cell_type": "code",
      "execution_count": 257,
      "metadata": {},
      "outputs": [
        {
          "data": {
            "text/plain": [
              "<pandas.core.groupby.generic.DataFrameGroupBy object at 0x309e78c50>"
            ]
          },
          "execution_count": 257,
          "metadata": {},
          "output_type": "execute_result"
        }
      ],
      "source": [
        "df_cleaned2.groupby(['district'])"
      ]
    },
    {
      "cell_type": "code",
      "execution_count": 260,
      "metadata": {},
      "outputs": [
        {
          "data": {
            "text/html": [
              "<div>\n",
              "<style scoped>\n",
              "    .dataframe tbody tr th:only-of-type {\n",
              "        vertical-align: middle;\n",
              "    }\n",
              "\n",
              "    .dataframe tbody tr th {\n",
              "        vertical-align: top;\n",
              "    }\n",
              "\n",
              "    .dataframe thead th {\n",
              "        text-align: right;\n",
              "    }\n",
              "</style>\n",
              "<table border=\"1\" class=\"dataframe\">\n",
              "  <thead>\n",
              "    <tr style=\"text-align: right;\">\n",
              "      <th></th>\n",
              "      <th>district</th>\n",
              "      <th>condition</th>\n",
              "      <th>heating</th>\n",
              "    </tr>\n",
              "  </thead>\n",
              "  <tbody>\n",
              "    <tr>\n",
              "      <th>0</th>\n",
              "      <td>Магистраль</td>\n",
              "      <td>хорошее</td>\n",
              "      <td>автономное</td>\n",
              "    </tr>\n",
              "    <tr>\n",
              "      <th>1</th>\n",
              "      <td>Политех</td>\n",
              "      <td>хорошее</td>\n",
              "      <td>центральное</td>\n",
              "    </tr>\n",
              "    <tr>\n",
              "      <th>2</th>\n",
              "      <td>Джал-29 м-н</td>\n",
              "      <td>хорошее</td>\n",
              "      <td>центральное</td>\n",
              "    </tr>\n",
              "    <tr>\n",
              "      <th>3</th>\n",
              "      <td>Магистраль</td>\n",
              "      <td>евроремонт</td>\n",
              "      <td>на газе</td>\n",
              "    </tr>\n",
              "    <tr>\n",
              "      <th>4</th>\n",
              "      <td>Средний Джал м-н</td>\n",
              "      <td>евроремонт</td>\n",
              "      <td>центральное</td>\n",
              "    </tr>\n",
              "    <tr>\n",
              "      <th>...</th>\n",
              "      <td>...</td>\n",
              "      <td>...</td>\n",
              "      <td>...</td>\n",
              "    </tr>\n",
              "    <tr>\n",
              "      <th>3362</th>\n",
              "      <td>ул.Рыскулова</td>\n",
              "      <td>под самоотделку (псо)</td>\n",
              "      <td>NaN</td>\n",
              "    </tr>\n",
              "    <tr>\n",
              "      <th>3363</th>\n",
              "      <td>7 м-н</td>\n",
              "      <td>NaN</td>\n",
              "      <td>NaN</td>\n",
              "    </tr>\n",
              "    <tr>\n",
              "      <th>3364</th>\n",
              "      <td>с. Алга</td>\n",
              "      <td>хорошее</td>\n",
              "      <td>электрическое</td>\n",
              "    </tr>\n",
              "    <tr>\n",
              "      <th>3365</th>\n",
              "      <td>Горького - Алма-Атинская</td>\n",
              "      <td>евроремонт</td>\n",
              "      <td>на газе</td>\n",
              "    </tr>\n",
              "    <tr>\n",
              "      <th>3366</th>\n",
              "      <td>Центральная мечеть</td>\n",
              "      <td>хорошее</td>\n",
              "      <td>центральное</td>\n",
              "    </tr>\n",
              "  </tbody>\n",
              "</table>\n",
              "<p>3364 rows × 3 columns</p>\n",
              "</div>"
            ],
            "text/plain": [
              "                      district              condition        heating\n",
              "0                   Магистраль                хорошее     автономное\n",
              "1                      Политех                хорошее    центральное\n",
              "2                  Джал-29 м-н                хорошее    центральное\n",
              "3                   Магистраль             евроремонт        на газе\n",
              "4             Средний Джал м-н             евроремонт    центральное\n",
              "...                        ...                    ...            ...\n",
              "3362              ул.Рыскулова  под самоотделку (псо)            NaN\n",
              "3363                     7 м-н                    NaN            NaN\n",
              "3364                   с. Алга                хорошее  электрическое\n",
              "3365  Горького - Алма-Атинская             евроремонт        на газе\n",
              "3366        Центральная мечеть                хорошее    центральное\n",
              "\n",
              "[3364 rows x 3 columns]"
            ]
          },
          "execution_count": 260,
          "metadata": {},
          "output_type": "execute_result"
        }
      ],
      "source": [
        "df_cleaned2.loc[:, ['district', 'condition', 'heating']]"
      ]
    },
    {
      "cell_type": "code",
      "execution_count": 246,
      "metadata": {},
      "outputs": [
        {
          "data": {
            "text/html": [
              "<div>\n",
              "<style scoped>\n",
              "    .dataframe tbody tr th:only-of-type {\n",
              "        vertical-align: middle;\n",
              "    }\n",
              "\n",
              "    .dataframe tbody tr th {\n",
              "        vertical-align: top;\n",
              "    }\n",
              "\n",
              "    .dataframe thead th {\n",
              "        text-align: right;\n",
              "    }\n",
              "</style>\n",
              "<table border=\"1\" class=\"dataframe\">\n",
              "  <thead>\n",
              "    <tr style=\"text-align: right;\">\n",
              "      <th></th>\n",
              "      <th>header_details</th>\n",
              "      <th>address</th>\n",
              "      <th>latitude</th>\n",
              "      <th>longitude</th>\n",
              "      <th>user_name</th>\n",
              "      <th>user_url</th>\n",
              "      <th>tel_number</th>\n",
              "      <th>price_dollars</th>\n",
              "      <th>Тип предложения</th>\n",
              "      <th>Серия</th>\n",
              "      <th>...</th>\n",
              "      <th>Безопасность</th>\n",
              "      <th>Возможность обмена</th>\n",
              "      <th>Возможность рассрочки</th>\n",
              "      <th>Возможность ипотеки</th>\n",
              "      <th>num_of_comments</th>\n",
              "      <th>Площадь участка</th>\n",
              "      <th>Канализация</th>\n",
              "      <th>Питьевая вода</th>\n",
              "      <th>Электричество</th>\n",
              "      <th>rooms</th>\n",
              "    </tr>\n",
              "  </thead>\n",
              "  <tbody>\n",
              "    <tr>\n",
              "      <th>243</th>\n",
              "      <td>свободная планировка кв., 880 м2</td>\n",
              "      <td>Бишкек, 8 м-н, Жукеева-Пудовкина 87/2</td>\n",
              "      <td>42.8277</td>\n",
              "      <td>74.6124</td>\n",
              "      <td>The.level.group</td>\n",
              "      <td>https://www.house.kg/the-level-group</td>\n",
              "      <td>+996 997 15-15-55</td>\n",
              "      <td>528000.0</td>\n",
              "      <td>от агента</td>\n",
              "      <td>элитка</td>\n",
              "      <td>...</td>\n",
              "      <td>охрана</td>\n",
              "      <td>NaN</td>\n",
              "      <td>NaN</td>\n",
              "      <td>NaN</td>\n",
              "      <td>NaN</td>\n",
              "      <td>NaN</td>\n",
              "      <td>NaN</td>\n",
              "      <td>NaN</td>\n",
              "      <td>NaN</td>\n",
              "      <td>0</td>\n",
              "    </tr>\n",
              "    <tr>\n",
              "      <th>628</th>\n",
              "      <td>свободная планировка кв., 51.79 м2</td>\n",
              "      <td>Иссык-Кульская область, Балыкчы</td>\n",
              "      <td>42.4594</td>\n",
              "      <td>76.2325</td>\n",
              "      <td>Пользователь</td>\n",
              "      <td>https://www.house.kg/user/a74bdec9fad077243929...</td>\n",
              "      <td>+996 990 93-96-29</td>\n",
              "      <td>62148.0</td>\n",
              "      <td>от агента</td>\n",
              "      <td>индивид. планировка</td>\n",
              "      <td>...</td>\n",
              "      <td>охрана,                                       ...</td>\n",
              "      <td>рассмотрю варианты</td>\n",
              "      <td>есть</td>\n",
              "      <td>нет</td>\n",
              "      <td>NaN</td>\n",
              "      <td>NaN</td>\n",
              "      <td>NaN</td>\n",
              "      <td>NaN</td>\n",
              "      <td>NaN</td>\n",
              "      <td>0</td>\n",
              "    </tr>\n",
              "    <tr>\n",
              "      <th>1038</th>\n",
              "      <td>свободная планировка кв., 70.64 м2</td>\n",
              "      <td>Иссык-Кульская область, Балыкчы</td>\n",
              "      <td>42.4596</td>\n",
              "      <td>76.2325</td>\n",
              "      <td>Пользователь</td>\n",
              "      <td>https://www.house.kg/user/a74bdec9fad077243929...</td>\n",
              "      <td>+996 990 93-96-29</td>\n",
              "      <td>84768.0</td>\n",
              "      <td>от агента</td>\n",
              "      <td>индивид. планировка</td>\n",
              "      <td>...</td>\n",
              "      <td>охрана,                                       ...</td>\n",
              "      <td>рассмотрю варианты</td>\n",
              "      <td>есть</td>\n",
              "      <td>нет</td>\n",
              "      <td>NaN</td>\n",
              "      <td>NaN</td>\n",
              "      <td>NaN</td>\n",
              "      <td>NaN</td>\n",
              "      <td>NaN</td>\n",
              "      <td>0</td>\n",
              "    </tr>\n",
              "    <tr>\n",
              "      <th>2308</th>\n",
              "      <td>свободная планировка кв., 44 м2</td>\n",
              "      <td>Бишкек, Асанбай м-н</td>\n",
              "      <td>42.8145</td>\n",
              "      <td>74.6315</td>\n",
              "      <td>Пользователь</td>\n",
              "      <td>https://www.house.kg/user/372de38527c34859f58a...</td>\n",
              "      <td>+996 755 75-00-51</td>\n",
              "      <td>73500.0</td>\n",
              "      <td>от агента</td>\n",
              "      <td>элитка</td>\n",
              "      <td>...</td>\n",
              "      <td>NaN</td>\n",
              "      <td>NaN</td>\n",
              "      <td>NaN</td>\n",
              "      <td>NaN</td>\n",
              "      <td>NaN</td>\n",
              "      <td>NaN</td>\n",
              "      <td>NaN</td>\n",
              "      <td>NaN</td>\n",
              "      <td>NaN</td>\n",
              "      <td>0</td>\n",
              "    </tr>\n",
              "    <tr>\n",
              "      <th>2640</th>\n",
              "      <td>свободная планировка кв., 45.5 м2</td>\n",
              "      <td>Бишкек, АЮ Grand, Исакеева 2</td>\n",
              "      <td>42.8593</td>\n",
              "      <td>74.6821</td>\n",
              "      <td>V</td>\n",
              "      <td>https://www.house.kg/user/0953a75cc830e9aad7a4...</td>\n",
              "      <td>+996 555 00-23-44</td>\n",
              "      <td>62990.0</td>\n",
              "      <td>от собственника</td>\n",
              "      <td>элитка</td>\n",
              "      <td>...</td>\n",
              "      <td>решетки на окнах,                             ...</td>\n",
              "      <td>NaN</td>\n",
              "      <td>NaN</td>\n",
              "      <td>NaN</td>\n",
              "      <td>NaN</td>\n",
              "      <td>NaN</td>\n",
              "      <td>NaN</td>\n",
              "      <td>NaN</td>\n",
              "      <td>NaN</td>\n",
              "      <td>0</td>\n",
              "    </tr>\n",
              "    <tr>\n",
              "      <th>3109</th>\n",
              "      <td>свободная планировка кв., 500 м2</td>\n",
              "      <td>Бишкек, Советская - Скрябина, Медерова/Элебаева</td>\n",
              "      <td>42.8526</td>\n",
              "      <td>74.6131</td>\n",
              "      <td>ПроФи</td>\n",
              "      <td>https://www.house.kg/profi</td>\n",
              "      <td>+996 551 70-10-07</td>\n",
              "      <td>450000.0</td>\n",
              "      <td>от агента</td>\n",
              "      <td>элитка</td>\n",
              "      <td>...</td>\n",
              "      <td>сигнализация,                                 ...</td>\n",
              "      <td>обмен не предлагать</td>\n",
              "      <td>есть</td>\n",
              "      <td>есть</td>\n",
              "      <td>NaN</td>\n",
              "      <td>NaN</td>\n",
              "      <td>NaN</td>\n",
              "      <td>NaN</td>\n",
              "      <td>NaN</td>\n",
              "      <td>0</td>\n",
              "    </tr>\n",
              "  </tbody>\n",
              "</table>\n",
              "<p>6 rows × 42 columns</p>\n",
              "</div>"
            ],
            "text/plain": [
              "                          header_details  \\\n",
              "243     свободная планировка кв., 880 м2   \n",
              "628   свободная планировка кв., 51.79 м2   \n",
              "1038  свободная планировка кв., 70.64 м2   \n",
              "2308     свободная планировка кв., 44 м2   \n",
              "2640   свободная планировка кв., 45.5 м2   \n",
              "3109    свободная планировка кв., 500 м2   \n",
              "\n",
              "                                              address  latitude  longitude  \\\n",
              "243             Бишкек, 8 м-н, Жукеева-Пудовкина 87/2   42.8277    74.6124   \n",
              "628                   Иссык-Кульская область, Балыкчы   42.4594    76.2325   \n",
              "1038                  Иссык-Кульская область, Балыкчы   42.4596    76.2325   \n",
              "2308                              Бишкек, Асанбай м-н   42.8145    74.6315   \n",
              "2640                     Бишкек, АЮ Grand, Исакеева 2   42.8593    74.6821   \n",
              "3109  Бишкек, Советская - Скрябина, Медерова/Элебаева   42.8526    74.6131   \n",
              "\n",
              "            user_name                                           user_url  \\\n",
              "243   The.level.group               https://www.house.kg/the-level-group   \n",
              "628      Пользователь  https://www.house.kg/user/a74bdec9fad077243929...   \n",
              "1038     Пользователь  https://www.house.kg/user/a74bdec9fad077243929...   \n",
              "2308     Пользователь  https://www.house.kg/user/372de38527c34859f58a...   \n",
              "2640                V  https://www.house.kg/user/0953a75cc830e9aad7a4...   \n",
              "3109            ПроФи                         https://www.house.kg/profi   \n",
              "\n",
              "             tel_number  price_dollars  Тип предложения                Серия  \\\n",
              "243   +996 997 15-15-55       528000.0        от агента               элитка   \n",
              "628   +996 990 93-96-29        62148.0        от агента  индивид. планировка   \n",
              "1038  +996 990 93-96-29        84768.0        от агента  индивид. планировка   \n",
              "2308  +996 755 75-00-51        73500.0        от агента               элитка   \n",
              "2640  +996 555 00-23-44        62990.0  от собственника               элитка   \n",
              "3109  +996 551 70-10-07       450000.0        от агента               элитка   \n",
              "\n",
              "      ...                                       Безопасность  \\\n",
              "243   ...                                             охрана   \n",
              "628   ...  охрана,                                       ...   \n",
              "1038  ...  охрана,                                       ...   \n",
              "2308  ...                                                NaN   \n",
              "2640  ...  решетки на окнах,                             ...   \n",
              "3109  ...  сигнализация,                                 ...   \n",
              "\n",
              "       Возможность обмена Возможность рассрочки Возможность ипотеки  \\\n",
              "243                   NaN                   NaN                 NaN   \n",
              "628    рассмотрю варианты                  есть                 нет   \n",
              "1038   рассмотрю варианты                  есть                 нет   \n",
              "2308                  NaN                   NaN                 NaN   \n",
              "2640                  NaN                   NaN                 NaN   \n",
              "3109  обмен не предлагать                  есть                есть   \n",
              "\n",
              "     num_of_comments Площадь участка Канализация Питьевая вода Электричество  \\\n",
              "243              NaN             NaN         NaN           NaN           NaN   \n",
              "628              NaN             NaN         NaN           NaN           NaN   \n",
              "1038             NaN             NaN         NaN           NaN           NaN   \n",
              "2308             NaN             NaN         NaN           NaN           NaN   \n",
              "2640             NaN             NaN         NaN           NaN           NaN   \n",
              "3109             NaN             NaN         NaN           NaN           NaN   \n",
              "\n",
              "     rooms  \n",
              "243      0  \n",
              "628      0  \n",
              "1038     0  \n",
              "2308     0  \n",
              "2640     0  \n",
              "3109     0  \n",
              "\n",
              "[6 rows x 42 columns]"
            ]
          },
          "execution_count": 246,
          "metadata": {},
          "output_type": "execute_result"
        }
      ],
      "source": [
        "df[df.rooms == 0]"
      ]
    },
    {
      "cell_type": "markdown",
      "metadata": {
        "id": "sdxJ1hafWwSF"
      },
      "source": [
        "## Аналитика.\n",
        "\n",
        "Предполагает командну работу. Аналитика - важнейший этап, предваряющий само моделирование. К ней стоит подойти ответственно и тщательно.\n",
        "\n",
        "Тут я напишу вопросы, которые сами напрашиваются. Дело в том, что представленные признаки не все могут быть полезными, и с какими стоит работать еще предстоит выяснить. Также на основании данных признаков можно понаделать новые... Буду писать основные идеи по порядку а затем, эти поинты необходимо распределить среди участников и отработать. После этого все результаты важно  совместно обсудить. (К-командная работа)"
      ]
    },
    {
      "cell_type": "markdown",
      "metadata": {
        "id": "OlK611aqYyqu"
      },
      "source": [
        "Основные проблематики:\n",
        "1. Пропуски.. Есть слабо заполненные фичи. Просто удалить их можно, но если в них есть +\\- треть непустых наблюдений, стоит все же уделить им внимание. Может быть \"пропуск\" тоже вполне себе признак. Выполните t-test или кор тест для непустых значений и оцените, насколько эта фича вам вообще полезна. Используйте визуализацю. Можете также сделать семпл данных и обучить какую-то модельку и посмотреть на коэффициенты. Возможно, есть признаки, которые вы определенно точно удалите.\n",
        "\n",
        "2. Инжиниринг. По категориальным признакам необходимо принять решение как их энкодить.. Сперва их нужно изучить.. какие они формируют группы и каковы там изменчивости целевой переменной. Особенно это касается Региона и населенного пункта. По регионам - сколько у нас данных по каждому? Скорее всего данные нужно разделить, но какие-то регионы объединить в один сегмент. *Координаты* - это тоже признак с которым нужно поработать. Для Столицы там свои фишки, для регионов свои. На что смотрим - на \"гранулы\", то есть на наличие \"групп\", в которых целевая переменная как-то объясняется специфической локацией. Тут открывается возможность наделать кучу категориальных и количественных признаков на основании координат. Сами координаты для моделирования оставлять не стоит. ОЧень полезно смотреть не на полную стоимость а на стоимость одного квадратного метра. Не стоит забывать про L1 регуляризацию. Можно обучить пробную модель и посмотреть, какие признаки будут занулены. По совокупности факторов принять решение, какие признаки хороши а какие нет.\n",
        "\n",
        "3. Аномалии и выбросы. Стоит внимательно изучить количественные признаки в особенности целевую. Чистка данных - это важный поинт. Тут поможет как разного рода погрупповая визуализация так и обучение пробной модели с анализом ошибок!"
      ]
    },
    {
      "cell_type": "markdown",
      "metadata": {
        "id": "Urf8fi7JrDqJ"
      },
      "source": [
        "Такой подход необходимо применить к каждому признаку. Признаки можно распределить среди участников а с координатами поработать совместно.\n",
        "\n",
        "После выполнения аналитики у вас будет масса инсайтов, выводов и графиков. Стоит все результаты совместно обсудить и сформулировать гипотезы о том, как будет проходить процесс моделирования."
      ]
    },
    {
      "cell_type": "code",
      "execution_count": 408,
      "metadata": {},
      "outputs": [],
      "source": [
        "from sklearn.model_selection import train_test_split, cross_val_score, GridSearchCV\n",
        "from sklearn.compose import ColumnTransformer\n",
        "from sklearn.pipeline import Pipeline\n",
        "from sklearn.preprocessing import StandardScaler, MinMaxScaler, RobustScaler\n",
        "from sklearn.linear_model import SGDRegressor\n",
        "from category_encoders import TargetEncoder\n",
        "from sklearn.ensemble import RandomForestRegressor\n",
        "from sklearn.metrics import mean_squared_error\n"
      ]
    },
    {
      "cell_type": "code",
      "execution_count": 262,
      "metadata": {},
      "outputs": [
        {
          "data": {
            "text/plain": [
              "Index(['address', 'latitude', 'longitude', 'price_dollars', 'offer_type',\n",
              "       'series', 'area', 'heating', 'bathroom', 'gas', 'front_door', 'parking',\n",
              "       'ceiling_height', 'another', 'title_deeds', 'telephone', 'internet',\n",
              "       'balcony', 'furniture', 'flooring', 'security',\n",
              "       'possibility_of_exchange', 'possibility_of_installments',\n",
              "       'mortgage_possibility', 'rooms', 'city', 'district', 'addr',\n",
              "       'renovation', 'dom_type', 'dom_year', 'floor_score', 'floor',\n",
              "       'total_floors', 'condition'],\n",
              "      dtype='object')"
            ]
          },
          "execution_count": 262,
          "metadata": {},
          "output_type": "execute_result"
        }
      ],
      "source": [
        "df_cleaned2.columns"
      ]
    },
    {
      "cell_type": "code",
      "execution_count": 336,
      "metadata": {},
      "outputs": [],
      "source": [
        "test_df = df_cleaned2[['price_dollars', 'offer_type',\n",
        "       'series', 'area', 'heating', 'bathroom', 'gas', 'front_door', 'parking',\n",
        "       'ceiling_height', 'title_deeds', 'telephone', 'internet',\n",
        "       'balcony', 'furniture', 'flooring', 'security',\n",
        "       'possibility_of_exchange', 'possibility_of_installments',\n",
        "       'mortgage_possibility', 'rooms', 'city', 'district', 'addr',\n",
        "       'renovation', 'dom_type', 'dom_year', 'floor_score', 'condition']]"
      ]
    },
    {
      "cell_type": "code",
      "execution_count": null,
      "metadata": {},
      "outputs": [],
      "source": [
        "test_df.drop(['title_deeds', 'security'], axis=1, inplace=True)"
      ]
    },
    {
      "cell_type": "code",
      "execution_count": 316,
      "metadata": {},
      "outputs": [],
      "source": [
        "# в group_by последним элементом должна находить колонка, которую надо заполнить\n",
        "def get_max_values(df:pd.DataFrame, group_by=['condition', 'heating']):\n",
        "    grouped_df = df.groupby(group_by).agg(count=('price_dollars', 'size')).reset_index()\n",
        "    max_count_df = grouped_df.loc[grouped_df.groupby(group_by[0])['count'].idxmax()]\n",
        "    \n",
        "    ind = df[df[group_by[-1]].isna()].index\n",
        "    temp_df = df.copy()\n",
        "    for i in ind:\n",
        "        try:\n",
        "            item = temp_df.loc[i]\n",
        "            value = max_count_df[max_count_df[group_by[0]] == item[group_by[0]]][group_by[-1]].values[0]\n",
        "            temp_df.loc[i, group_by[-1]] = value\n",
        "        except:\n",
        "            continue\n",
        "        \n",
        "    return temp_df[group_by[-1]]"
      ]
    },
    {
      "cell_type": "code",
      "execution_count": null,
      "metadata": {},
      "outputs": [],
      "source": [
        "# Заполняем condition популярным значением\n",
        "test_df['condition'] = get_max_values(test_df, ['series', 'condition'])"
      ]
    },
    {
      "cell_type": "code",
      "execution_count": null,
      "metadata": {},
      "outputs": [],
      "source": [
        "# Заполняем heating популярным значением\n",
        "test_df['heating'] = get_max_values(test_df, ['condition', 'heating'])"
      ]
    },
    {
      "cell_type": "code",
      "execution_count": null,
      "metadata": {},
      "outputs": [],
      "source": [
        "# Заполняем bathroom популярным значением\n",
        "test_df['bathroom'] = get_max_values(test_df, ['condition', 'bathroom'])"
      ]
    },
    {
      "cell_type": "code",
      "execution_count": null,
      "metadata": {},
      "outputs": [],
      "source": [
        "# Заполняем gas популярным значением\n",
        "test_df['gas'] = get_max_values(test_df, ['condition', 'gas'])"
      ]
    },
    {
      "cell_type": "code",
      "execution_count": null,
      "metadata": {},
      "outputs": [],
      "source": [
        "# Заполняем front_door популярным значением\n",
        "test_df['front_door'] = get_max_values(test_df, ['condition', 'front_door'])"
      ]
    },
    {
      "cell_type": "code",
      "execution_count": null,
      "metadata": {},
      "outputs": [],
      "source": [
        "# Заполняем parking популярным значением\n",
        "test_df['parking'] = get_max_values(test_df, ['condition', 'parking'])"
      ]
    },
    {
      "cell_type": "code",
      "execution_count": null,
      "metadata": {},
      "outputs": [],
      "source": [
        "# Заполняем telephone популярным значением\n",
        "test_df['telephone'] = get_max_values(test_df, ['series', 'telephone'])"
      ]
    },
    {
      "cell_type": "code",
      "execution_count": null,
      "metadata": {},
      "outputs": [],
      "source": [
        "# Заполняем internet популярным значением\n",
        "test_df['internet'] = get_max_values(test_df, ['series', 'internet'])"
      ]
    },
    {
      "cell_type": "code",
      "execution_count": null,
      "metadata": {},
      "outputs": [],
      "source": [
        "# Заполняем balcony популярным значением\n",
        "test_df['balcony'] = get_max_values(test_df, ['condition', 'balcony'])"
      ]
    },
    {
      "cell_type": "code",
      "execution_count": null,
      "metadata": {},
      "outputs": [],
      "source": [
        "# Заполняем furniture популярным значением\n",
        "test_df['furniture'] = get_max_values(test_df, ['condition', 'furniture'])"
      ]
    },
    {
      "cell_type": "code",
      "execution_count": null,
      "metadata": {},
      "outputs": [],
      "source": [
        "# Заполняем flooring популярным значением\n",
        "test_df['flooring'] = get_max_values(test_df, ['condition', 'flooring'])"
      ]
    },
    {
      "cell_type": "code",
      "execution_count": null,
      "metadata": {},
      "outputs": [],
      "source": [
        "test_df['possibility_of_exchange'].fillna('обмен не предлагать', inplace=True)\n",
        "test_df['possibility_of_installments'].fillna('нет', inplace=True)\n",
        "test_df['mortgage_possibility'].fillna('нет', inplace=True)"
      ]
    },
    {
      "cell_type": "code",
      "execution_count": null,
      "metadata": {},
      "outputs": [],
      "source": [
        "test_df.rooms = test_df.rooms.astype(int)"
      ]
    },
    {
      "cell_type": "code",
      "execution_count": 389,
      "metadata": {},
      "outputs": [
        {
          "data": {
            "text/plain": [
              "Index(['price_dollars', 'offer_type', 'series', 'area', 'heating', 'bathroom',\n",
              "       'gas', 'front_door', 'parking', 'ceiling_height', 'telephone',\n",
              "       'internet', 'balcony', 'furniture', 'flooring',\n",
              "       'possibility_of_exchange', 'possibility_of_installments',\n",
              "       'mortgage_possibility', 'rooms', 'city', 'district', 'addr',\n",
              "       'renovation', 'dom_type', 'dom_year', 'floor_score', 'condition'],\n",
              "      dtype='object')"
            ]
          },
          "execution_count": 389,
          "metadata": {},
          "output_type": "execute_result"
        }
      ],
      "source": [
        "test_df.columns"
      ]
    },
    {
      "cell_type": "code",
      "execution_count": 395,
      "metadata": {},
      "outputs": [],
      "source": [
        "X = test_df.drop('price_dollars', axis=1)\n",
        "y = test_df['price_dollars']"
      ]
    },
    {
      "cell_type": "code",
      "execution_count": 396,
      "metadata": {},
      "outputs": [],
      "source": [
        "X_train, X_test, y_train, y_test = train_test_split(X, y, test_size=0.2, random_state=42)"
      ]
    },
    {
      "cell_type": "code",
      "execution_count": 403,
      "metadata": {},
      "outputs": [],
      "source": [
        "numeric_features = X.select_dtypes([np.number]).columns\n",
        "categorical = X.dtypes[test_df.dtypes == \"object\"].index.tolist()"
      ]
    },
    {
      "cell_type": "code",
      "execution_count": 404,
      "metadata": {},
      "outputs": [],
      "source": [
        "# Преобразования для категориальных и числовых признаков\n",
        "preprocessor = ColumnTransformer(\n",
        "    transformers=[\n",
        "        ('num', StandardScaler(), numeric_features),  # Стандартизация числовых признаков\n",
        "        ('cat', TargetEncoder(), categorical)  # Target Encoding для категориальных признаков\n",
        "    ]\n",
        ")"
      ]
    },
    {
      "cell_type": "code",
      "execution_count": 413,
      "metadata": {},
      "outputs": [],
      "source": [
        "model_pipeline = Pipeline(steps=[\n",
        "    ('preprocessor', preprocessor),\n",
        "    ('model', SGDRegressor(random_state=42))  # Модель (Random Forest)\n",
        "])"
      ]
    },
    {
      "cell_type": "code",
      "execution_count": 414,
      "metadata": {},
      "outputs": [
        {
          "data": {
            "text/plain": [
              "1.4539760093404973e+39"
            ]
          },
          "execution_count": 414,
          "metadata": {},
          "output_type": "execute_result"
        }
      ],
      "source": [
        "model_pipeline.fit(X_train, y_train)\n",
        "\n",
        "# Делаем предсказания на тестовой выборке\n",
        "y_pred = model_pipeline.predict(X_test)\n",
        "\n",
        "# Оценка качества модели\n",
        "mean_squared_error(y_test, y_pred)"
      ]
    },
    {
      "cell_type": "code",
      "execution_count": 419,
      "metadata": {},
      "outputs": [],
      "source": [
        "sgd_model = model_pipeline.named_steps['model']"
      ]
    },
    {
      "cell_type": "code",
      "execution_count": 420,
      "metadata": {},
      "outputs": [
        {
          "data": {
            "text/plain": [
              "<Axes: ylabel='None'>"
            ]
          },
          "execution_count": 420,
          "metadata": {},
          "output_type": "execute_result"
        },
        {
          "data": {
            "image/png": "[encoded data removed]",
            "text/plain": [
              "<Figure size 640x480 with 1 Axes>"
            ]
          },
          "metadata": {},
          "output_type": "display_data"
        }
      ],
      "source": [
        "sns.barplot(x=sgd_model.coef_.squeeze(), y=X.columns)"
      ]
    },
    {
      "cell_type": "markdown",
      "metadata": {
        "id": "tdrjUaX4rnYN"
      },
      "source": [
        "## Моделирование\n",
        "\n",
        "На этапе аналитики вы сформулируете ряд гипотез. Их необходимо распределить среди участников и отработать. Процесс подбора гиперпараметров стоит также распределить как и работу с разными сегментами данных."
      ]
    },
    {
      "cell_type": "code",
      "execution_count": null,
      "metadata": {
        "id": "KO5AZq-cTxtx"
      },
      "outputs": [],
      "source": []
    },
    {
      "cell_type": "code",
      "execution_count": null,
      "metadata": {
        "id": "Hub9TX7nTxrM"
      },
      "outputs": [],
      "source": []
    },
    {
      "cell_type": "code",
      "execution_count": null,
      "metadata": {
        "id": "RHTkxAyfTxoj"
      },
      "outputs": [],
      "source": []
    }
  ],
  "metadata": {
    "colab": {
      "provenance": []
    },
    "kernelspec": {
      "display_name": "Python 3",
      "name": "python3"
    },
    "language_info": {
      "codemirror_mode": {
        "name": "ipython",
        "version": 3
      },
      "file_extension": ".py",
      "mimetype": "text/x-python",
      "name": "python",
      "nbconvert_exporter": "python",
      "pygments_lexer": "ipython3",
      "version": "3.11.2"
    }
  },
  "nbformat": 4,
  "nbformat_minor": 0
}
